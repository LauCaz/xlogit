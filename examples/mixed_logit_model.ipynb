{
  "nbformat": 4,
  "nbformat_minor": 0,
  "metadata": {
    "colab": {
      "name": "mixed_logit_model.ipynb",
      "provenance": [],
      "collapsed_sections": []
    },
    "kernelspec": {
      "display_name": "Python 3 (Spyder)",
      "language": "python3",
      "name": "python3"
    },
    "language_info": {
      "codemirror_mode": {
        "name": "ipython",
        "version": 3
      },
      "file_extension": ".py",
      "mimetype": "text/x-python",
      "name": "python",
      "nbconvert_exporter": "python",
      "pygments_lexer": "ipython3",
      "version": "3.7.7"
    },
    "accelerator": "GPU"
  },
  "cells": [
    {
      "cell_type": "markdown",
      "metadata": {
        "id": "TJHlxbR5kEe-"
      },
      "source": [
        "# Mixed Logit"
      ]
    },
    {
      "cell_type": "markdown",
      "metadata": {
        "id": "qXO6ZtU_F2b4"
      },
      "source": [
        "The following examples provide step-by-step instructions to estimate mixed logit models using the xlogit package. You can interactively execute the code in this guide by opening it Google Colab using the following link:\n",
        "\n",
        "[![Open In Colab](https://colab.research.google.com/assets/colab-badge.svg)](https://colab.research.google.com/github/arteagac/xlogit/blob/master/examples/mixed_logit_model.ipynb)"
      ]
    },
    {
      "cell_type": "markdown",
      "metadata": {
        "id": "mra0NiIOFSie"
      },
      "source": [
        "## Install and import `xlogit` package"
      ]
    },
    {
      "cell_type": "markdown",
      "metadata": {
        "id": "rvLSzJP1GfP1"
      },
      "source": [
        "Install `xlogit` using `pip` as shown below. In addition, import the package and check if GPU processing is available."
      ]
    },
    {
      "cell_type": "code",
      "metadata": {
        "colab": {
          "base_uri": "https://localhost:8080/"
        },
        "id": "NQbZt7CVh8f_",
        "outputId": "cc619f68-7162-4ee6-821a-5c8b95cdbe33"
      },
      "source": [
        "!pip install xlogit\n",
        "from xlogit import MixedLogit\n",
        "MixedLogit.check_if_gpu_available()"
      ],
      "execution_count": null,
      "outputs": [
        {
          "output_type": "stream",
          "text": [
            "Collecting xlogit\n",
            "  Downloading https://files.pythonhosted.org/packages/60/5f/9bc576d180c366af77bc04e268536e9e34be23c52a520918aa0cb56b438e/xlogit-0.1.3-py3-none-any.whl\n",
            "Requirement already satisfied: scipy>=1.0.0 in /usr/local/lib/python3.7/dist-packages (from xlogit) (1.4.1)\n",
            "Requirement already satisfied: numpy>=1.13.1 in /usr/local/lib/python3.7/dist-packages (from xlogit) (1.19.5)\n",
            "Installing collected packages: xlogit\n",
            "Successfully installed xlogit-0.1.3\n",
            "1 GPU device(s) available. xlogit will use GPU processing\n"
          ],
          "name": "stdout"
        },
        {
          "output_type": "execute_result",
          "data": {
            "text/plain": [
              "True"
            ]
          },
          "metadata": {
            "tags": []
          },
          "execution_count": 1
        }
      ]
    },
    {
      "cell_type": "markdown",
      "metadata": {
        "id": "MP77ezqVfvRI"
      },
      "source": [
        "## Swissmetro Dataset"
      ]
    },
    {
      "cell_type": "markdown",
      "metadata": {
        "id": "BOWB3Lffg5Qc"
      },
      "source": [
        "\n",
        "The swissmetro dataset contains stated-preferences for three alternative transportation modes that include car, train and a newly introduced mode: the swissmetro. This dataset is commonly used for estimation examples with the `Biogeme` and `PyLogit` packages. The dataset is available at http://transp-or.epfl.ch/data/swissmetro.dat and [Bierlaire et. al., (2001)](https://transp-or.epfl.ch/documents/proceedings/BierAxhaAbay01.pdf) provides a detailed discussion of the data as wells as its context and collection process. The explanatory variables in this example include the travel time (`TT`) and cost `CO` for each of the three alternative modes."
      ]
    },
    {
      "cell_type": "markdown",
      "metadata": {
        "id": "n4No84MAeFOM"
      },
      "source": [
        "### Read data"
      ]
    },
    {
      "cell_type": "markdown",
      "metadata": {
        "id": "TEzmVzYDdLS8"
      },
      "source": [
        "The dataset is imported to the Python environment using `pandas`. Then, two types of samples, ones with a trip purpose different to commute or business and ones with an unknown choice, are filtered out. The original dataset contains 10,729 records, but after filtering, 6,768 records remain for following analysis. Finally, a new column that uniquely identifies each sample is added to the dataframe and the `CHOICE` column, which originally contains a numerical coding of the choices, is mapped to a description that is consistent with the alternatives in the column names. "
      ]
    },
    {
      "cell_type": "code",
      "metadata": {
        "id": "4jqERhnWhGCc",
        "colab": {
          "base_uri": "https://localhost:8080/",
          "height": 424
        },
        "outputId": "9e618295-506a-4b2b-becc-490defd84eec"
      },
      "source": [
        "import pandas as pd\n",
        "import numpy as np\n",
        "\n",
        "df_wide = pd.read_table(\"http://transp-or.epfl.ch/data/swissmetro.dat\", sep='\\t')\n",
        "\n",
        "# Keep only observations for commute and business purposes that contain known choices\n",
        "df_wide = df_wide[(df_wide['PURPOSE'].isin([1, 3]) & (df_wide['CHOICE'] != 0))]\n",
        "\n",
        "df_wide['custom_id'] = np.arange(len(df_wide))  # Add unique identifier\n",
        "df_wide['CHOICE'] = df_wide['CHOICE'].map({1: 'TRAIN', 2:'SM', 3: 'CAR'})\n",
        "df_wide"
      ],
      "execution_count": null,
      "outputs": [
        {
          "output_type": "execute_result",
          "data": {
            "text/html": [
              "<div>\n",
              "<style scoped>\n",
              "    .dataframe tbody tr th:only-of-type {\n",
              "        vertical-align: middle;\n",
              "    }\n",
              "\n",
              "    .dataframe tbody tr th {\n",
              "        vertical-align: top;\n",
              "    }\n",
              "\n",
              "    .dataframe thead th {\n",
              "        text-align: right;\n",
              "    }\n",
              "</style>\n",
              "<table border=\"1\" class=\"dataframe\">\n",
              "  <thead>\n",
              "    <tr style=\"text-align: right;\">\n",
              "      <th></th>\n",
              "      <th>GROUP</th>\n",
              "      <th>SURVEY</th>\n",
              "      <th>SP</th>\n",
              "      <th>ID</th>\n",
              "      <th>PURPOSE</th>\n",
              "      <th>FIRST</th>\n",
              "      <th>TICKET</th>\n",
              "      <th>WHO</th>\n",
              "      <th>LUGGAGE</th>\n",
              "      <th>AGE</th>\n",
              "      <th>MALE</th>\n",
              "      <th>INCOME</th>\n",
              "      <th>GA</th>\n",
              "      <th>ORIGIN</th>\n",
              "      <th>DEST</th>\n",
              "      <th>TRAIN_AV</th>\n",
              "      <th>CAR_AV</th>\n",
              "      <th>SM_AV</th>\n",
              "      <th>TRAIN_TT</th>\n",
              "      <th>TRAIN_CO</th>\n",
              "      <th>TRAIN_HE</th>\n",
              "      <th>SM_TT</th>\n",
              "      <th>SM_CO</th>\n",
              "      <th>SM_HE</th>\n",
              "      <th>SM_SEATS</th>\n",
              "      <th>CAR_TT</th>\n",
              "      <th>CAR_CO</th>\n",
              "      <th>CHOICE</th>\n",
              "      <th>custom_id</th>\n",
              "    </tr>\n",
              "  </thead>\n",
              "  <tbody>\n",
              "    <tr>\n",
              "      <th>0</th>\n",
              "      <td>2</td>\n",
              "      <td>0</td>\n",
              "      <td>1</td>\n",
              "      <td>1</td>\n",
              "      <td>1</td>\n",
              "      <td>0</td>\n",
              "      <td>1</td>\n",
              "      <td>1</td>\n",
              "      <td>0</td>\n",
              "      <td>3</td>\n",
              "      <td>0</td>\n",
              "      <td>2</td>\n",
              "      <td>0</td>\n",
              "      <td>2</td>\n",
              "      <td>1</td>\n",
              "      <td>1</td>\n",
              "      <td>1</td>\n",
              "      <td>1</td>\n",
              "      <td>112</td>\n",
              "      <td>48</td>\n",
              "      <td>120</td>\n",
              "      <td>63</td>\n",
              "      <td>52</td>\n",
              "      <td>20</td>\n",
              "      <td>0</td>\n",
              "      <td>117</td>\n",
              "      <td>65</td>\n",
              "      <td>SM</td>\n",
              "      <td>0</td>\n",
              "    </tr>\n",
              "    <tr>\n",
              "      <th>1</th>\n",
              "      <td>2</td>\n",
              "      <td>0</td>\n",
              "      <td>1</td>\n",
              "      <td>1</td>\n",
              "      <td>1</td>\n",
              "      <td>0</td>\n",
              "      <td>1</td>\n",
              "      <td>1</td>\n",
              "      <td>0</td>\n",
              "      <td>3</td>\n",
              "      <td>0</td>\n",
              "      <td>2</td>\n",
              "      <td>0</td>\n",
              "      <td>2</td>\n",
              "      <td>1</td>\n",
              "      <td>1</td>\n",
              "      <td>1</td>\n",
              "      <td>1</td>\n",
              "      <td>103</td>\n",
              "      <td>48</td>\n",
              "      <td>30</td>\n",
              "      <td>60</td>\n",
              "      <td>49</td>\n",
              "      <td>10</td>\n",
              "      <td>0</td>\n",
              "      <td>117</td>\n",
              "      <td>84</td>\n",
              "      <td>SM</td>\n",
              "      <td>1</td>\n",
              "    </tr>\n",
              "    <tr>\n",
              "      <th>2</th>\n",
              "      <td>2</td>\n",
              "      <td>0</td>\n",
              "      <td>1</td>\n",
              "      <td>1</td>\n",
              "      <td>1</td>\n",
              "      <td>0</td>\n",
              "      <td>1</td>\n",
              "      <td>1</td>\n",
              "      <td>0</td>\n",
              "      <td>3</td>\n",
              "      <td>0</td>\n",
              "      <td>2</td>\n",
              "      <td>0</td>\n",
              "      <td>2</td>\n",
              "      <td>1</td>\n",
              "      <td>1</td>\n",
              "      <td>1</td>\n",
              "      <td>1</td>\n",
              "      <td>130</td>\n",
              "      <td>48</td>\n",
              "      <td>60</td>\n",
              "      <td>67</td>\n",
              "      <td>58</td>\n",
              "      <td>30</td>\n",
              "      <td>0</td>\n",
              "      <td>117</td>\n",
              "      <td>52</td>\n",
              "      <td>SM</td>\n",
              "      <td>2</td>\n",
              "    </tr>\n",
              "    <tr>\n",
              "      <th>3</th>\n",
              "      <td>2</td>\n",
              "      <td>0</td>\n",
              "      <td>1</td>\n",
              "      <td>1</td>\n",
              "      <td>1</td>\n",
              "      <td>0</td>\n",
              "      <td>1</td>\n",
              "      <td>1</td>\n",
              "      <td>0</td>\n",
              "      <td>3</td>\n",
              "      <td>0</td>\n",
              "      <td>2</td>\n",
              "      <td>0</td>\n",
              "      <td>2</td>\n",
              "      <td>1</td>\n",
              "      <td>1</td>\n",
              "      <td>1</td>\n",
              "      <td>1</td>\n",
              "      <td>103</td>\n",
              "      <td>40</td>\n",
              "      <td>30</td>\n",
              "      <td>63</td>\n",
              "      <td>52</td>\n",
              "      <td>20</td>\n",
              "      <td>0</td>\n",
              "      <td>72</td>\n",
              "      <td>52</td>\n",
              "      <td>SM</td>\n",
              "      <td>3</td>\n",
              "    </tr>\n",
              "    <tr>\n",
              "      <th>4</th>\n",
              "      <td>2</td>\n",
              "      <td>0</td>\n",
              "      <td>1</td>\n",
              "      <td>1</td>\n",
              "      <td>1</td>\n",
              "      <td>0</td>\n",
              "      <td>1</td>\n",
              "      <td>1</td>\n",
              "      <td>0</td>\n",
              "      <td>3</td>\n",
              "      <td>0</td>\n",
              "      <td>2</td>\n",
              "      <td>0</td>\n",
              "      <td>2</td>\n",
              "      <td>1</td>\n",
              "      <td>1</td>\n",
              "      <td>1</td>\n",
              "      <td>1</td>\n",
              "      <td>130</td>\n",
              "      <td>36</td>\n",
              "      <td>60</td>\n",
              "      <td>63</td>\n",
              "      <td>42</td>\n",
              "      <td>20</td>\n",
              "      <td>0</td>\n",
              "      <td>90</td>\n",
              "      <td>84</td>\n",
              "      <td>SM</td>\n",
              "      <td>4</td>\n",
              "    </tr>\n",
              "    <tr>\n",
              "      <th>...</th>\n",
              "      <td>...</td>\n",
              "      <td>...</td>\n",
              "      <td>...</td>\n",
              "      <td>...</td>\n",
              "      <td>...</td>\n",
              "      <td>...</td>\n",
              "      <td>...</td>\n",
              "      <td>...</td>\n",
              "      <td>...</td>\n",
              "      <td>...</td>\n",
              "      <td>...</td>\n",
              "      <td>...</td>\n",
              "      <td>...</td>\n",
              "      <td>...</td>\n",
              "      <td>...</td>\n",
              "      <td>...</td>\n",
              "      <td>...</td>\n",
              "      <td>...</td>\n",
              "      <td>...</td>\n",
              "      <td>...</td>\n",
              "      <td>...</td>\n",
              "      <td>...</td>\n",
              "      <td>...</td>\n",
              "      <td>...</td>\n",
              "      <td>...</td>\n",
              "      <td>...</td>\n",
              "      <td>...</td>\n",
              "      <td>...</td>\n",
              "      <td>...</td>\n",
              "    </tr>\n",
              "    <tr>\n",
              "      <th>8446</th>\n",
              "      <td>3</td>\n",
              "      <td>1</td>\n",
              "      <td>1</td>\n",
              "      <td>939</td>\n",
              "      <td>3</td>\n",
              "      <td>1</td>\n",
              "      <td>7</td>\n",
              "      <td>3</td>\n",
              "      <td>1</td>\n",
              "      <td>5</td>\n",
              "      <td>1</td>\n",
              "      <td>2</td>\n",
              "      <td>0</td>\n",
              "      <td>1</td>\n",
              "      <td>2</td>\n",
              "      <td>1</td>\n",
              "      <td>1</td>\n",
              "      <td>1</td>\n",
              "      <td>108</td>\n",
              "      <td>13</td>\n",
              "      <td>30</td>\n",
              "      <td>50</td>\n",
              "      <td>17</td>\n",
              "      <td>30</td>\n",
              "      <td>0</td>\n",
              "      <td>130</td>\n",
              "      <td>64</td>\n",
              "      <td>TRAIN</td>\n",
              "      <td>6763</td>\n",
              "    </tr>\n",
              "    <tr>\n",
              "      <th>8447</th>\n",
              "      <td>3</td>\n",
              "      <td>1</td>\n",
              "      <td>1</td>\n",
              "      <td>939</td>\n",
              "      <td>3</td>\n",
              "      <td>1</td>\n",
              "      <td>7</td>\n",
              "      <td>3</td>\n",
              "      <td>1</td>\n",
              "      <td>5</td>\n",
              "      <td>1</td>\n",
              "      <td>2</td>\n",
              "      <td>0</td>\n",
              "      <td>1</td>\n",
              "      <td>2</td>\n",
              "      <td>1</td>\n",
              "      <td>1</td>\n",
              "      <td>1</td>\n",
              "      <td>108</td>\n",
              "      <td>12</td>\n",
              "      <td>30</td>\n",
              "      <td>53</td>\n",
              "      <td>16</td>\n",
              "      <td>10</td>\n",
              "      <td>0</td>\n",
              "      <td>80</td>\n",
              "      <td>80</td>\n",
              "      <td>TRAIN</td>\n",
              "      <td>6764</td>\n",
              "    </tr>\n",
              "    <tr>\n",
              "      <th>8448</th>\n",
              "      <td>3</td>\n",
              "      <td>1</td>\n",
              "      <td>1</td>\n",
              "      <td>939</td>\n",
              "      <td>3</td>\n",
              "      <td>1</td>\n",
              "      <td>7</td>\n",
              "      <td>3</td>\n",
              "      <td>1</td>\n",
              "      <td>5</td>\n",
              "      <td>1</td>\n",
              "      <td>2</td>\n",
              "      <td>0</td>\n",
              "      <td>1</td>\n",
              "      <td>2</td>\n",
              "      <td>1</td>\n",
              "      <td>1</td>\n",
              "      <td>1</td>\n",
              "      <td>108</td>\n",
              "      <td>16</td>\n",
              "      <td>60</td>\n",
              "      <td>50</td>\n",
              "      <td>16</td>\n",
              "      <td>20</td>\n",
              "      <td>0</td>\n",
              "      <td>80</td>\n",
              "      <td>64</td>\n",
              "      <td>TRAIN</td>\n",
              "      <td>6765</td>\n",
              "    </tr>\n",
              "    <tr>\n",
              "      <th>8449</th>\n",
              "      <td>3</td>\n",
              "      <td>1</td>\n",
              "      <td>1</td>\n",
              "      <td>939</td>\n",
              "      <td>3</td>\n",
              "      <td>1</td>\n",
              "      <td>7</td>\n",
              "      <td>3</td>\n",
              "      <td>1</td>\n",
              "      <td>5</td>\n",
              "      <td>1</td>\n",
              "      <td>2</td>\n",
              "      <td>0</td>\n",
              "      <td>1</td>\n",
              "      <td>2</td>\n",
              "      <td>1</td>\n",
              "      <td>1</td>\n",
              "      <td>1</td>\n",
              "      <td>128</td>\n",
              "      <td>16</td>\n",
              "      <td>30</td>\n",
              "      <td>53</td>\n",
              "      <td>17</td>\n",
              "      <td>30</td>\n",
              "      <td>0</td>\n",
              "      <td>80</td>\n",
              "      <td>104</td>\n",
              "      <td>TRAIN</td>\n",
              "      <td>6766</td>\n",
              "    </tr>\n",
              "    <tr>\n",
              "      <th>8450</th>\n",
              "      <td>3</td>\n",
              "      <td>1</td>\n",
              "      <td>1</td>\n",
              "      <td>939</td>\n",
              "      <td>3</td>\n",
              "      <td>1</td>\n",
              "      <td>7</td>\n",
              "      <td>3</td>\n",
              "      <td>1</td>\n",
              "      <td>5</td>\n",
              "      <td>1</td>\n",
              "      <td>2</td>\n",
              "      <td>0</td>\n",
              "      <td>1</td>\n",
              "      <td>2</td>\n",
              "      <td>1</td>\n",
              "      <td>1</td>\n",
              "      <td>1</td>\n",
              "      <td>108</td>\n",
              "      <td>13</td>\n",
              "      <td>60</td>\n",
              "      <td>53</td>\n",
              "      <td>21</td>\n",
              "      <td>30</td>\n",
              "      <td>0</td>\n",
              "      <td>100</td>\n",
              "      <td>80</td>\n",
              "      <td>TRAIN</td>\n",
              "      <td>6767</td>\n",
              "    </tr>\n",
              "  </tbody>\n",
              "</table>\n",
              "<p>6768 rows × 29 columns</p>\n",
              "</div>"
            ],
            "text/plain": [
              "      GROUP  SURVEY  SP   ID  ...  CAR_TT  CAR_CO  CHOICE  custom_id\n",
              "0         2       0   1    1  ...     117      65      SM          0\n",
              "1         2       0   1    1  ...     117      84      SM          1\n",
              "2         2       0   1    1  ...     117      52      SM          2\n",
              "3         2       0   1    1  ...      72      52      SM          3\n",
              "4         2       0   1    1  ...      90      84      SM          4\n",
              "...     ...     ...  ..  ...  ...     ...     ...     ...        ...\n",
              "8446      3       1   1  939  ...     130      64   TRAIN       6763\n",
              "8447      3       1   1  939  ...      80      80   TRAIN       6764\n",
              "8448      3       1   1  939  ...      80      64   TRAIN       6765\n",
              "8449      3       1   1  939  ...      80     104   TRAIN       6766\n",
              "8450      3       1   1  939  ...     100      80   TRAIN       6767\n",
              "\n",
              "[6768 rows x 29 columns]"
            ]
          },
          "metadata": {
            "tags": []
          },
          "execution_count": 2
        }
      ]
    },
    {
      "cell_type": "markdown",
      "metadata": {
        "id": "-GRMhgM2eIPz"
      },
      "source": [
        "### Reshape data"
      ]
    },
    {
      "cell_type": "markdown",
      "metadata": {
        "id": "r9OxW-yNhcal"
      },
      "source": [
        "The imported dataframe is in wide format, and it needs to be reshaped to long format for processing by `xlogit`, which offers the convenient `wide_to_long` utility for this reshaping process. The user needs to specify the column that uniquely identifies each sample, the names of the alternatives, the columns that vary across alternatives, and whether the alternative names are a prefix or suffix of the column names. Additionally, the user can specify a value (`empty_val`) to be used by default when an alternative is not available for a certain variable. Additional usage examples for the `wide_to_long` function are available in xlogit's documentation at https://xlogit.readthedocs.io/en/latest/notebooks/convert_data_wide_to_long.html. Also, details about the function parameters are available at the [API reference ](https://xlogit.readthedocs.io/en/latest/api/utils.html#xlogit.utils.wide_to_long)."
      ]
    },
    {
      "cell_type": "code",
      "metadata": {
        "colab": {
          "base_uri": "https://localhost:8080/",
          "height": 424
        },
        "id": "1KM-BvFvhWed",
        "outputId": "d6cadcfb-e895-428a-c0ce-81ab2eaddf48"
      },
      "source": [
        "from xlogit.utils import wide_to_long\n",
        "\n",
        "df = wide_to_long(df_wide, id_col='custom_id', alt_name='alt', sep='_',\n",
        "                  alt_list=['TRAIN', 'SM', 'CAR'], empty_val=0,\n",
        "                  varying=['TT', 'CO', 'HE', 'AV', 'SEATS'], alt_is_prefix=True)\n",
        "df"
      ],
      "execution_count": null,
      "outputs": [
        {
          "output_type": "execute_result",
          "data": {
            "text/html": [
              "<div>\n",
              "<style scoped>\n",
              "    .dataframe tbody tr th:only-of-type {\n",
              "        vertical-align: middle;\n",
              "    }\n",
              "\n",
              "    .dataframe tbody tr th {\n",
              "        vertical-align: top;\n",
              "    }\n",
              "\n",
              "    .dataframe thead th {\n",
              "        text-align: right;\n",
              "    }\n",
              "</style>\n",
              "<table border=\"1\" class=\"dataframe\">\n",
              "  <thead>\n",
              "    <tr style=\"text-align: right;\">\n",
              "      <th></th>\n",
              "      <th>custom_id</th>\n",
              "      <th>alt</th>\n",
              "      <th>TT</th>\n",
              "      <th>CO</th>\n",
              "      <th>HE</th>\n",
              "      <th>AV</th>\n",
              "      <th>SEATS</th>\n",
              "      <th>GROUP</th>\n",
              "      <th>SURVEY</th>\n",
              "      <th>SP</th>\n",
              "      <th>ID</th>\n",
              "      <th>PURPOSE</th>\n",
              "      <th>FIRST</th>\n",
              "      <th>TICKET</th>\n",
              "      <th>WHO</th>\n",
              "      <th>LUGGAGE</th>\n",
              "      <th>AGE</th>\n",
              "      <th>MALE</th>\n",
              "      <th>INCOME</th>\n",
              "      <th>GA</th>\n",
              "      <th>ORIGIN</th>\n",
              "      <th>DEST</th>\n",
              "      <th>CHOICE</th>\n",
              "    </tr>\n",
              "  </thead>\n",
              "  <tbody>\n",
              "    <tr>\n",
              "      <th>0</th>\n",
              "      <td>0</td>\n",
              "      <td>CAR</td>\n",
              "      <td>117</td>\n",
              "      <td>65</td>\n",
              "      <td>0</td>\n",
              "      <td>1</td>\n",
              "      <td>0</td>\n",
              "      <td>2</td>\n",
              "      <td>0</td>\n",
              "      <td>1</td>\n",
              "      <td>1</td>\n",
              "      <td>1</td>\n",
              "      <td>0</td>\n",
              "      <td>1</td>\n",
              "      <td>1</td>\n",
              "      <td>0</td>\n",
              "      <td>3</td>\n",
              "      <td>0</td>\n",
              "      <td>2</td>\n",
              "      <td>0</td>\n",
              "      <td>2</td>\n",
              "      <td>1</td>\n",
              "      <td>SM</td>\n",
              "    </tr>\n",
              "    <tr>\n",
              "      <th>1</th>\n",
              "      <td>0</td>\n",
              "      <td>SM</td>\n",
              "      <td>63</td>\n",
              "      <td>52</td>\n",
              "      <td>20</td>\n",
              "      <td>1</td>\n",
              "      <td>0</td>\n",
              "      <td>2</td>\n",
              "      <td>0</td>\n",
              "      <td>1</td>\n",
              "      <td>1</td>\n",
              "      <td>1</td>\n",
              "      <td>0</td>\n",
              "      <td>1</td>\n",
              "      <td>1</td>\n",
              "      <td>0</td>\n",
              "      <td>3</td>\n",
              "      <td>0</td>\n",
              "      <td>2</td>\n",
              "      <td>0</td>\n",
              "      <td>2</td>\n",
              "      <td>1</td>\n",
              "      <td>SM</td>\n",
              "    </tr>\n",
              "    <tr>\n",
              "      <th>2</th>\n",
              "      <td>0</td>\n",
              "      <td>TRAIN</td>\n",
              "      <td>112</td>\n",
              "      <td>48</td>\n",
              "      <td>120</td>\n",
              "      <td>1</td>\n",
              "      <td>0</td>\n",
              "      <td>2</td>\n",
              "      <td>0</td>\n",
              "      <td>1</td>\n",
              "      <td>1</td>\n",
              "      <td>1</td>\n",
              "      <td>0</td>\n",
              "      <td>1</td>\n",
              "      <td>1</td>\n",
              "      <td>0</td>\n",
              "      <td>3</td>\n",
              "      <td>0</td>\n",
              "      <td>2</td>\n",
              "      <td>0</td>\n",
              "      <td>2</td>\n",
              "      <td>1</td>\n",
              "      <td>SM</td>\n",
              "    </tr>\n",
              "    <tr>\n",
              "      <th>3</th>\n",
              "      <td>1</td>\n",
              "      <td>CAR</td>\n",
              "      <td>117</td>\n",
              "      <td>84</td>\n",
              "      <td>0</td>\n",
              "      <td>1</td>\n",
              "      <td>0</td>\n",
              "      <td>2</td>\n",
              "      <td>0</td>\n",
              "      <td>1</td>\n",
              "      <td>1</td>\n",
              "      <td>1</td>\n",
              "      <td>0</td>\n",
              "      <td>1</td>\n",
              "      <td>1</td>\n",
              "      <td>0</td>\n",
              "      <td>3</td>\n",
              "      <td>0</td>\n",
              "      <td>2</td>\n",
              "      <td>0</td>\n",
              "      <td>2</td>\n",
              "      <td>1</td>\n",
              "      <td>SM</td>\n",
              "    </tr>\n",
              "    <tr>\n",
              "      <th>4</th>\n",
              "      <td>1</td>\n",
              "      <td>SM</td>\n",
              "      <td>60</td>\n",
              "      <td>49</td>\n",
              "      <td>10</td>\n",
              "      <td>1</td>\n",
              "      <td>0</td>\n",
              "      <td>2</td>\n",
              "      <td>0</td>\n",
              "      <td>1</td>\n",
              "      <td>1</td>\n",
              "      <td>1</td>\n",
              "      <td>0</td>\n",
              "      <td>1</td>\n",
              "      <td>1</td>\n",
              "      <td>0</td>\n",
              "      <td>3</td>\n",
              "      <td>0</td>\n",
              "      <td>2</td>\n",
              "      <td>0</td>\n",
              "      <td>2</td>\n",
              "      <td>1</td>\n",
              "      <td>SM</td>\n",
              "    </tr>\n",
              "    <tr>\n",
              "      <th>...</th>\n",
              "      <td>...</td>\n",
              "      <td>...</td>\n",
              "      <td>...</td>\n",
              "      <td>...</td>\n",
              "      <td>...</td>\n",
              "      <td>...</td>\n",
              "      <td>...</td>\n",
              "      <td>...</td>\n",
              "      <td>...</td>\n",
              "      <td>...</td>\n",
              "      <td>...</td>\n",
              "      <td>...</td>\n",
              "      <td>...</td>\n",
              "      <td>...</td>\n",
              "      <td>...</td>\n",
              "      <td>...</td>\n",
              "      <td>...</td>\n",
              "      <td>...</td>\n",
              "      <td>...</td>\n",
              "      <td>...</td>\n",
              "      <td>...</td>\n",
              "      <td>...</td>\n",
              "      <td>...</td>\n",
              "    </tr>\n",
              "    <tr>\n",
              "      <th>20299</th>\n",
              "      <td>6766</td>\n",
              "      <td>SM</td>\n",
              "      <td>53</td>\n",
              "      <td>17</td>\n",
              "      <td>30</td>\n",
              "      <td>1</td>\n",
              "      <td>0</td>\n",
              "      <td>3</td>\n",
              "      <td>1</td>\n",
              "      <td>1</td>\n",
              "      <td>939</td>\n",
              "      <td>3</td>\n",
              "      <td>1</td>\n",
              "      <td>7</td>\n",
              "      <td>3</td>\n",
              "      <td>1</td>\n",
              "      <td>5</td>\n",
              "      <td>1</td>\n",
              "      <td>2</td>\n",
              "      <td>0</td>\n",
              "      <td>1</td>\n",
              "      <td>2</td>\n",
              "      <td>TRAIN</td>\n",
              "    </tr>\n",
              "    <tr>\n",
              "      <th>20300</th>\n",
              "      <td>6766</td>\n",
              "      <td>TRAIN</td>\n",
              "      <td>128</td>\n",
              "      <td>16</td>\n",
              "      <td>30</td>\n",
              "      <td>1</td>\n",
              "      <td>0</td>\n",
              "      <td>3</td>\n",
              "      <td>1</td>\n",
              "      <td>1</td>\n",
              "      <td>939</td>\n",
              "      <td>3</td>\n",
              "      <td>1</td>\n",
              "      <td>7</td>\n",
              "      <td>3</td>\n",
              "      <td>1</td>\n",
              "      <td>5</td>\n",
              "      <td>1</td>\n",
              "      <td>2</td>\n",
              "      <td>0</td>\n",
              "      <td>1</td>\n",
              "      <td>2</td>\n",
              "      <td>TRAIN</td>\n",
              "    </tr>\n",
              "    <tr>\n",
              "      <th>20301</th>\n",
              "      <td>6767</td>\n",
              "      <td>CAR</td>\n",
              "      <td>100</td>\n",
              "      <td>80</td>\n",
              "      <td>0</td>\n",
              "      <td>1</td>\n",
              "      <td>0</td>\n",
              "      <td>3</td>\n",
              "      <td>1</td>\n",
              "      <td>1</td>\n",
              "      <td>939</td>\n",
              "      <td>3</td>\n",
              "      <td>1</td>\n",
              "      <td>7</td>\n",
              "      <td>3</td>\n",
              "      <td>1</td>\n",
              "      <td>5</td>\n",
              "      <td>1</td>\n",
              "      <td>2</td>\n",
              "      <td>0</td>\n",
              "      <td>1</td>\n",
              "      <td>2</td>\n",
              "      <td>TRAIN</td>\n",
              "    </tr>\n",
              "    <tr>\n",
              "      <th>20302</th>\n",
              "      <td>6767</td>\n",
              "      <td>SM</td>\n",
              "      <td>53</td>\n",
              "      <td>21</td>\n",
              "      <td>30</td>\n",
              "      <td>1</td>\n",
              "      <td>0</td>\n",
              "      <td>3</td>\n",
              "      <td>1</td>\n",
              "      <td>1</td>\n",
              "      <td>939</td>\n",
              "      <td>3</td>\n",
              "      <td>1</td>\n",
              "      <td>7</td>\n",
              "      <td>3</td>\n",
              "      <td>1</td>\n",
              "      <td>5</td>\n",
              "      <td>1</td>\n",
              "      <td>2</td>\n",
              "      <td>0</td>\n",
              "      <td>1</td>\n",
              "      <td>2</td>\n",
              "      <td>TRAIN</td>\n",
              "    </tr>\n",
              "    <tr>\n",
              "      <th>20303</th>\n",
              "      <td>6767</td>\n",
              "      <td>TRAIN</td>\n",
              "      <td>108</td>\n",
              "      <td>13</td>\n",
              "      <td>60</td>\n",
              "      <td>1</td>\n",
              "      <td>0</td>\n",
              "      <td>3</td>\n",
              "      <td>1</td>\n",
              "      <td>1</td>\n",
              "      <td>939</td>\n",
              "      <td>3</td>\n",
              "      <td>1</td>\n",
              "      <td>7</td>\n",
              "      <td>3</td>\n",
              "      <td>1</td>\n",
              "      <td>5</td>\n",
              "      <td>1</td>\n",
              "      <td>2</td>\n",
              "      <td>0</td>\n",
              "      <td>1</td>\n",
              "      <td>2</td>\n",
              "      <td>TRAIN</td>\n",
              "    </tr>\n",
              "  </tbody>\n",
              "</table>\n",
              "<p>20304 rows × 23 columns</p>\n",
              "</div>"
            ],
            "text/plain": [
              "       custom_id    alt   TT  CO   HE  ...  INCOME  GA  ORIGIN  DEST  CHOICE\n",
              "0              0    CAR  117  65    0  ...       2   0       2     1      SM\n",
              "1              0     SM   63  52   20  ...       2   0       2     1      SM\n",
              "2              0  TRAIN  112  48  120  ...       2   0       2     1      SM\n",
              "3              1    CAR  117  84    0  ...       2   0       2     1      SM\n",
              "4              1     SM   60  49   10  ...       2   0       2     1      SM\n",
              "...          ...    ...  ...  ..  ...  ...     ...  ..     ...   ...     ...\n",
              "20299       6766     SM   53  17   30  ...       2   0       1     2   TRAIN\n",
              "20300       6766  TRAIN  128  16   30  ...       2   0       1     2   TRAIN\n",
              "20301       6767    CAR  100  80    0  ...       2   0       1     2   TRAIN\n",
              "20302       6767     SM   53  21   30  ...       2   0       1     2   TRAIN\n",
              "20303       6767  TRAIN  108  13   60  ...       2   0       1     2   TRAIN\n",
              "\n",
              "[20304 rows x 23 columns]"
            ]
          },
          "metadata": {
            "tags": []
          },
          "execution_count": 3
        }
      ]
    },
    {
      "cell_type": "markdown",
      "metadata": {
        "id": "PhLjuzaSeVjE"
      },
      "source": [
        "### Create model specification"
      ]
    },
    {
      "cell_type": "markdown",
      "metadata": {
        "id": "dgJP2WdQeXiY"
      },
      "source": [
        "Following the reshaping, users can create or update the dataset's columns in order to accommodate their model specification needs, if necessary. The code below shows how the columns `ASC_TRAIN` and `ASC_CAR` were created to incorporate alternative-specific constants in the model. In addition, the example illustrates an effective way of establishing variable interactions (e.g., trip costs for commuters with an annual pass) by updating existing columns conditional on values of other columns. Although apparently simple, column operations provide users with an intuitive and highly-flexible mechanism to incorporate model specification aspects, such as variable transformations, interactions, and alternative specific coefficients and constants. By operating the dataframe columns, any utility specification can be accommodated in `xlogit`. As shown in [this specification example](https://xlogit.readthedocs.io/en/latest/notebooks/multinomial_model.html#Create-model-specification), highly-flexible utility specifications can be modeled in `xlogit` by operating the dataframe columns."
      ]
    },
    {
      "cell_type": "code",
      "metadata": {
        "id": "MsSu2jqKeoz-"
      },
      "source": [
        "df['ASC_TRAIN'] = np.ones(len(df))*(df['alt'] == 'TRAIN')\n",
        "df['ASC_CAR'] = np.ones(len(df))*(df['alt'] == 'CAR')\n",
        "df['TT'], df['CO'] = df['TT']/100, df['CO']/100  # Scale variables\n",
        "annual_pass = (df['GA'] == 1) & (df['alt'].isin(['TRAIN', 'SM']))\n",
        "df.loc[annual_pass, 'CO'] = 0  # Cost zero for pass holders"
      ],
      "execution_count": null,
      "outputs": []
    },
    {
      "cell_type": "markdown",
      "metadata": {
        "id": "JgjEi8QLexj6"
      },
      "source": [
        "### Estimate model parameters"
      ]
    },
    {
      "cell_type": "markdown",
      "metadata": {
        "id": "gzuSO2UBe99t"
      },
      "source": [
        "The `fit` method estimates the model by taking as input the data from the previous step along with additional specification criteria, such as the distribution of the random parameters (`randvars`), the number of random draws (`n_draws`), and the availability of alternatives for the choice situations (`avail`). Once the estimation routine is completed, the `summary` method can be used to display the estimation results."
      ]
    },
    {
      "cell_type": "code",
      "metadata": {
        "id": "dctkrAPBez4T",
        "colab": {
          "base_uri": "https://localhost:8080/"
        },
        "outputId": "4144e388-2e57-4886-d65d-94f9d0a2204b"
      },
      "source": [
        "from xlogit import MixedLogit\n",
        "varnames=['ASC_CAR', 'ASC_TRAIN', 'CO', 'TT']\n",
        "model = MixedLogit()\n",
        "model.fit(X=df[varnames], y=df['CHOICE'], varnames=varnames,\n",
        "          alts=df['alt'], ids=df['custom_id'], avail=df['AV'],\n",
        "          randvars={'TT': 'n'}, n_draws=2000)\n",
        "model.summary()"
      ],
      "execution_count": null,
      "outputs": [
        {
          "output_type": "stream",
          "text": [
            "GPU processing enabled.\n",
            "Optimization terminated successfully.\n",
            "         Current function value: 5214.927430\n",
            "         Iterations: 19\n",
            "         Function evaluations: 25\n",
            "         Gradient evaluations: 25\n",
            "Estimation time= 6.1 seconds\n",
            "---------------------------------------------------------------------------\n",
            "Coefficient              Estimate      Std.Err.         z-val         P>|z|\n",
            "---------------------------------------------------------------------------\n",
            "ASC_CAR                 0.1371110     0.0489429     2.8014468        0.0158 *  \n",
            "ASC_TRAIN              -0.4018231     0.0586071    -6.8562141      5.35e-11 ***\n",
            "CO                     -1.2854009     0.0614645   -20.9128918      7.27e-93 ***\n",
            "TT                     -2.2598763     0.1111418   -20.3332649      5.58e-88 ***\n",
            "sd.TT                   1.6576641     0.1308694    12.6665510      2.91e-35 ***\n",
            "---------------------------------------------------------------------------\n",
            "Significance:  0 '***' 0.001 '**' 0.01 '*' 0.05 '.' 0.1 ' ' 1\n",
            "\n",
            "Log-Likelihood= -5214.927\n",
            "AIC= 10439.855\n",
            "BIC= 10473.955\n"
          ],
          "name": "stdout"
        }
      ]
    },
    {
      "cell_type": "markdown",
      "metadata": {
        "id": "iwsZACbNgJwd"
      },
      "source": [
        "The negative signs for the cost and time coefficients suggest that decision makers experience a general disutility with alternatives that have higher waiting times and costs, which conforms to the underlying decision making theory. Note that these estimates are highly consistent with those returned by Biogeme (https://biogeme.epfl.ch/examples/swissmetro/05normalMixtureIntegral.html)"
      ]
    },
    {
      "cell_type": "markdown",
      "metadata": {
        "id": "dt6rAYtH3Djj"
      },
      "source": [
        "## Electricity Dataset"
      ]
    },
    {
      "cell_type": "markdown",
      "metadata": {
        "id": "_k8_iTHPn7l9"
      },
      "source": [
        "The electricity dataset contains 4,308 choices among four electricity suppliers based on the attributes of the offered plans, which include prices(pf), contract lengths(cl), time of day rates (tod), seasonal rates(seas), as well as attributes of the suppliers, which include whether the supplier is local (loc) and well-known (wk). The data was collected through a survey where 12 different choice situations were presented to each participant. The multiple responses per participants were organized into panels. Given that some participants answered less than 12 of the choice situations, some panels are unbalanced, which `xlogit` is able to handle. [Revelt and Train (1999)](https://escholarship.org/content/qt1900p96t/qt1900p96t.pdf) provide a detailed description of this dataset. "
      ]
    },
    {
      "cell_type": "markdown",
      "metadata": {
        "id": "wOjSrftv3Gtm"
      },
      "source": [
        "### Read data"
      ]
    },
    {
      "cell_type": "markdown",
      "metadata": {
        "id": "ymoa7_h4oZo_"
      },
      "source": [
        "The dataset is already in long format so no reshaping is necessary, it can be used directly in xlogit."
      ]
    },
    {
      "cell_type": "code",
      "metadata": {
        "id": "fLgHickp3IJw",
        "colab": {
          "base_uri": "https://localhost:8080/",
          "height": 424
        },
        "outputId": "15c56780-5e50-41d0-a8b7-23b7091ad815"
      },
      "source": [
        "import pandas as pd\n",
        "\n",
        "df = pd.read_csv(\"https://raw.github.com/arteagac/xlogit/master/examples/data/electricity_long.csv\")\n",
        "df"
      ],
      "execution_count": null,
      "outputs": [
        {
          "output_type": "execute_result",
          "data": {
            "text/html": [
              "<div>\n",
              "<style scoped>\n",
              "    .dataframe tbody tr th:only-of-type {\n",
              "        vertical-align: middle;\n",
              "    }\n",
              "\n",
              "    .dataframe tbody tr th {\n",
              "        vertical-align: top;\n",
              "    }\n",
              "\n",
              "    .dataframe thead th {\n",
              "        text-align: right;\n",
              "    }\n",
              "</style>\n",
              "<table border=\"1\" class=\"dataframe\">\n",
              "  <thead>\n",
              "    <tr style=\"text-align: right;\">\n",
              "      <th></th>\n",
              "      <th>choice</th>\n",
              "      <th>id</th>\n",
              "      <th>alt</th>\n",
              "      <th>pf</th>\n",
              "      <th>cl</th>\n",
              "      <th>loc</th>\n",
              "      <th>wk</th>\n",
              "      <th>tod</th>\n",
              "      <th>seas</th>\n",
              "      <th>chid</th>\n",
              "    </tr>\n",
              "  </thead>\n",
              "  <tbody>\n",
              "    <tr>\n",
              "      <th>0</th>\n",
              "      <td>0</td>\n",
              "      <td>1</td>\n",
              "      <td>1</td>\n",
              "      <td>7</td>\n",
              "      <td>5</td>\n",
              "      <td>0</td>\n",
              "      <td>1</td>\n",
              "      <td>0</td>\n",
              "      <td>0</td>\n",
              "      <td>1</td>\n",
              "    </tr>\n",
              "    <tr>\n",
              "      <th>1</th>\n",
              "      <td>0</td>\n",
              "      <td>1</td>\n",
              "      <td>2</td>\n",
              "      <td>9</td>\n",
              "      <td>1</td>\n",
              "      <td>1</td>\n",
              "      <td>0</td>\n",
              "      <td>0</td>\n",
              "      <td>0</td>\n",
              "      <td>1</td>\n",
              "    </tr>\n",
              "    <tr>\n",
              "      <th>2</th>\n",
              "      <td>0</td>\n",
              "      <td>1</td>\n",
              "      <td>3</td>\n",
              "      <td>0</td>\n",
              "      <td>0</td>\n",
              "      <td>0</td>\n",
              "      <td>0</td>\n",
              "      <td>0</td>\n",
              "      <td>1</td>\n",
              "      <td>1</td>\n",
              "    </tr>\n",
              "    <tr>\n",
              "      <th>3</th>\n",
              "      <td>1</td>\n",
              "      <td>1</td>\n",
              "      <td>4</td>\n",
              "      <td>0</td>\n",
              "      <td>5</td>\n",
              "      <td>0</td>\n",
              "      <td>1</td>\n",
              "      <td>1</td>\n",
              "      <td>0</td>\n",
              "      <td>1</td>\n",
              "    </tr>\n",
              "    <tr>\n",
              "      <th>4</th>\n",
              "      <td>0</td>\n",
              "      <td>1</td>\n",
              "      <td>1</td>\n",
              "      <td>7</td>\n",
              "      <td>0</td>\n",
              "      <td>0</td>\n",
              "      <td>1</td>\n",
              "      <td>0</td>\n",
              "      <td>0</td>\n",
              "      <td>2</td>\n",
              "    </tr>\n",
              "    <tr>\n",
              "      <th>...</th>\n",
              "      <td>...</td>\n",
              "      <td>...</td>\n",
              "      <td>...</td>\n",
              "      <td>...</td>\n",
              "      <td>...</td>\n",
              "      <td>...</td>\n",
              "      <td>...</td>\n",
              "      <td>...</td>\n",
              "      <td>...</td>\n",
              "      <td>...</td>\n",
              "    </tr>\n",
              "    <tr>\n",
              "      <th>17227</th>\n",
              "      <td>0</td>\n",
              "      <td>361</td>\n",
              "      <td>4</td>\n",
              "      <td>0</td>\n",
              "      <td>1</td>\n",
              "      <td>1</td>\n",
              "      <td>0</td>\n",
              "      <td>0</td>\n",
              "      <td>1</td>\n",
              "      <td>4307</td>\n",
              "    </tr>\n",
              "    <tr>\n",
              "      <th>17228</th>\n",
              "      <td>1</td>\n",
              "      <td>361</td>\n",
              "      <td>1</td>\n",
              "      <td>9</td>\n",
              "      <td>0</td>\n",
              "      <td>0</td>\n",
              "      <td>1</td>\n",
              "      <td>0</td>\n",
              "      <td>0</td>\n",
              "      <td>4308</td>\n",
              "    </tr>\n",
              "    <tr>\n",
              "      <th>17229</th>\n",
              "      <td>0</td>\n",
              "      <td>361</td>\n",
              "      <td>2</td>\n",
              "      <td>7</td>\n",
              "      <td>0</td>\n",
              "      <td>0</td>\n",
              "      <td>0</td>\n",
              "      <td>0</td>\n",
              "      <td>0</td>\n",
              "      <td>4308</td>\n",
              "    </tr>\n",
              "    <tr>\n",
              "      <th>17230</th>\n",
              "      <td>0</td>\n",
              "      <td>361</td>\n",
              "      <td>3</td>\n",
              "      <td>0</td>\n",
              "      <td>1</td>\n",
              "      <td>0</td>\n",
              "      <td>1</td>\n",
              "      <td>0</td>\n",
              "      <td>1</td>\n",
              "      <td>4308</td>\n",
              "    </tr>\n",
              "    <tr>\n",
              "      <th>17231</th>\n",
              "      <td>0</td>\n",
              "      <td>361</td>\n",
              "      <td>4</td>\n",
              "      <td>0</td>\n",
              "      <td>5</td>\n",
              "      <td>1</td>\n",
              "      <td>0</td>\n",
              "      <td>1</td>\n",
              "      <td>0</td>\n",
              "      <td>4308</td>\n",
              "    </tr>\n",
              "  </tbody>\n",
              "</table>\n",
              "<p>17232 rows × 10 columns</p>\n",
              "</div>"
            ],
            "text/plain": [
              "       choice   id  alt  pf  cl  loc  wk  tod  seas  chid\n",
              "0           0    1    1   7   5    0   1    0     0     1\n",
              "1           0    1    2   9   1    1   0    0     0     1\n",
              "2           0    1    3   0   0    0   0    0     1     1\n",
              "3           1    1    4   0   5    0   1    1     0     1\n",
              "4           0    1    1   7   0    0   1    0     0     2\n",
              "...       ...  ...  ...  ..  ..  ...  ..  ...   ...   ...\n",
              "17227       0  361    4   0   1    1   0    0     1  4307\n",
              "17228       1  361    1   9   0    0   1    0     0  4308\n",
              "17229       0  361    2   7   0    0   0    0     0  4308\n",
              "17230       0  361    3   0   1    0   1    0     1  4308\n",
              "17231       0  361    4   0   5    1   0    1     0  4308\n",
              "\n",
              "[17232 rows x 10 columns]"
            ]
          },
          "metadata": {
            "tags": []
          },
          "execution_count": 6
        }
      ]
    },
    {
      "cell_type": "markdown",
      "metadata": {
        "id": "gFUpTIpU3-Oi"
      },
      "source": [
        "### Fit the model"
      ]
    },
    {
      "cell_type": "markdown",
      "metadata": {
        "id": "0p7isMbqoIYz"
      },
      "source": [
        "Note that the parameter `panels` was included in the `fit` function in order to take into account panel structure of this dataset during estimation."
      ]
    },
    {
      "cell_type": "code",
      "metadata": {
        "id": "It7kU3GE3XV0",
        "colab": {
          "base_uri": "https://localhost:8080/"
        },
        "outputId": "3f61ad55-31e3-43ff-d04c-c6526e8652dc"
      },
      "source": [
        "from xlogit import MixedLogit\n",
        "\n",
        "varnames = ['pf', 'cl', 'loc', 'wk', 'tod', 'seas']\n",
        "model = MixedLogit()\n",
        "model.fit(X=df[varnames],\n",
        "          y=df['choice'],\n",
        "          varnames=varnames,\n",
        "          ids=df['chid'],\n",
        "          panels=df['id'],\n",
        "          alts=df['alt'],\n",
        "          n_draws=600,\n",
        "          randvars={'pf': 'n', 'cl': 'n', 'loc': 'n',\n",
        "                    'wk': 'n', 'tod': 'n', 'seas': 'n'})\n",
        "model.summary()"
      ],
      "execution_count": null,
      "outputs": [
        {
          "output_type": "stream",
          "text": [
            "GPU processing enabled.\n",
            "Optimization terminated successfully.\n",
            "         Current function value: 3888.413414\n",
            "         Iterations: 46\n",
            "         Function evaluations: 51\n",
            "         Gradient evaluations: 51\n",
            "Estimation time= 2.5 seconds\n",
            "---------------------------------------------------------------------------\n",
            "Coefficient              Estimate      Std.Err.         z-val         P>|z|\n",
            "---------------------------------------------------------------------------\n",
            "pf                     -0.9996286     0.0331488   -30.1557541     9.98e-100 ***\n",
            "cl                     -0.2355334     0.0220401   -10.6865870      1.97e-22 ***\n",
            "loc                     2.2307891     0.1164263    19.1605300      5.64e-56 ***\n",
            "wk                      1.6251657     0.0918755    17.6887855      6.85e-50 ***\n",
            "tod                    -9.6067367     0.3112721   -30.8628296     2.36e-102 ***\n",
            "seas                   -9.7892800     0.2913063   -33.6047603     2.81e-112 ***\n",
            "sd.pf                   0.2357813     0.0181892    12.9627201      7.25e-31 ***\n",
            "sd.cl                   0.4025377     0.0220183    18.2819903      2.43e-52 ***\n",
            "sd.loc                  1.9262893     0.1187850    16.2166103      7.67e-44 ***\n",
            "sd.wk                  -1.2192931     0.0944581   -12.9083017      1.17e-30 ***\n",
            "sd.tod                  2.3354462     0.1741859    13.4077786      1.37e-32 ***\n",
            "sd.seas                -1.4200913     0.2095869    -6.7756668       3.1e-10 ***\n",
            "---------------------------------------------------------------------------\n",
            "Significance:  0 '***' 0.001 '**' 0.01 '*' 0.05 '.' 0.1 ' ' 1\n",
            "\n",
            "Log-Likelihood= -3888.413\n",
            "AIC= 7800.827\n",
            "BIC= 7847.493\n"
          ],
          "name": "stdout"
        }
      ]
    },
    {
      "cell_type": "markdown",
      "metadata": {
        "id": "GWm-ydF3kxSr"
      },
      "source": [
        "The xlogit estimates are similar to those estimated using R's mlogit package (https://cran.r-project.org/web/packages/mlogit/vignettes/e3mxlogit.html). With GPU-enabled estimations, xlogit estimates the model in less than 10 seconds, significantly faster than open-source pacakges such as mlogit and pylogit. This feature can be beneficial while fitting models for large datasets with multiple explanatory variables to be estimated with random coefficients."
      ]
    },
    {
      "cell_type": "markdown",
      "metadata": {
        "id": "r9gxNL0XePRc"
      },
      "source": [
        "## Fishing Dataset"
      ]
    },
    {
      "cell_type": "markdown",
      "metadata": {
        "id": "Innu2ypbmKui"
      },
      "source": [
        "This example illustrates the estimation of a Mixed Logit model for choices of 1,182 individuals for sport fishing modes using `xlogit`. The goal is to analyze the market shares of four alternatives (i.e., beach, pier, boat, and charter) based on their cost and fish catch rate. [Cameron (2005)](http://cameron.econ.ucdavis.edu/mmabook/mma.html) provides additional details about this dataset. The following code illustrates how to use `xlogit` to estimate the model parameters."
      ]
    },
    {
      "cell_type": "markdown",
      "metadata": {
        "id": "cqBJWh8eOQDp"
      },
      "source": [
        "### Read data"
      ]
    },
    {
      "cell_type": "markdown",
      "metadata": {
        "id": "GqCeQywgozbK"
      },
      "source": [
        "The data to be analyzed can be imported to Python using any preferred method. In this example, the data in CSV format was imported using the popular `pandas` Python package. However, it is worth highlighting that `xlogit` does not depend on the `pandas` package, as `xlogit` can take any array-like structure as input. This represents an additional advantage because `xlogit` can be used with any preferred dataframe library, and not only with `pandas`."
      ]
    },
    {
      "cell_type": "code",
      "metadata": {
        "id": "9jDr3PIveaG8",
        "colab": {
          "base_uri": "https://localhost:8080/",
          "height": 424
        },
        "outputId": "9f64ebc4-ed00-49c4-c798-d1593c94eb3b"
      },
      "source": [
        "import pandas as pd\n",
        "df = pd.read_csv(\"https://raw.github.com/arteagac/xlogit/master/examples/data/fishing_long.csv\")\n",
        "df"
      ],
      "execution_count": null,
      "outputs": [
        {
          "output_type": "execute_result",
          "data": {
            "text/html": [
              "<div>\n",
              "<style scoped>\n",
              "    .dataframe tbody tr th:only-of-type {\n",
              "        vertical-align: middle;\n",
              "    }\n",
              "\n",
              "    .dataframe tbody tr th {\n",
              "        vertical-align: top;\n",
              "    }\n",
              "\n",
              "    .dataframe thead th {\n",
              "        text-align: right;\n",
              "    }\n",
              "</style>\n",
              "<table border=\"1\" class=\"dataframe\">\n",
              "  <thead>\n",
              "    <tr style=\"text-align: right;\">\n",
              "      <th></th>\n",
              "      <th>id</th>\n",
              "      <th>alt</th>\n",
              "      <th>choice</th>\n",
              "      <th>income</th>\n",
              "      <th>price</th>\n",
              "      <th>catch</th>\n",
              "    </tr>\n",
              "  </thead>\n",
              "  <tbody>\n",
              "    <tr>\n",
              "      <th>0</th>\n",
              "      <td>1</td>\n",
              "      <td>beach</td>\n",
              "      <td>0</td>\n",
              "      <td>7083.33170</td>\n",
              "      <td>157.930</td>\n",
              "      <td>0.0678</td>\n",
              "    </tr>\n",
              "    <tr>\n",
              "      <th>1</th>\n",
              "      <td>1</td>\n",
              "      <td>boat</td>\n",
              "      <td>0</td>\n",
              "      <td>7083.33170</td>\n",
              "      <td>157.930</td>\n",
              "      <td>0.2601</td>\n",
              "    </tr>\n",
              "    <tr>\n",
              "      <th>2</th>\n",
              "      <td>1</td>\n",
              "      <td>charter</td>\n",
              "      <td>1</td>\n",
              "      <td>7083.33170</td>\n",
              "      <td>182.930</td>\n",
              "      <td>0.5391</td>\n",
              "    </tr>\n",
              "    <tr>\n",
              "      <th>3</th>\n",
              "      <td>1</td>\n",
              "      <td>pier</td>\n",
              "      <td>0</td>\n",
              "      <td>7083.33170</td>\n",
              "      <td>157.930</td>\n",
              "      <td>0.0503</td>\n",
              "    </tr>\n",
              "    <tr>\n",
              "      <th>4</th>\n",
              "      <td>2</td>\n",
              "      <td>beach</td>\n",
              "      <td>0</td>\n",
              "      <td>1249.99980</td>\n",
              "      <td>15.114</td>\n",
              "      <td>0.1049</td>\n",
              "    </tr>\n",
              "    <tr>\n",
              "      <th>...</th>\n",
              "      <td>...</td>\n",
              "      <td>...</td>\n",
              "      <td>...</td>\n",
              "      <td>...</td>\n",
              "      <td>...</td>\n",
              "      <td>...</td>\n",
              "    </tr>\n",
              "    <tr>\n",
              "      <th>4723</th>\n",
              "      <td>1181</td>\n",
              "      <td>pier</td>\n",
              "      <td>0</td>\n",
              "      <td>416.66668</td>\n",
              "      <td>36.636</td>\n",
              "      <td>0.4522</td>\n",
              "    </tr>\n",
              "    <tr>\n",
              "      <th>4724</th>\n",
              "      <td>1182</td>\n",
              "      <td>beach</td>\n",
              "      <td>0</td>\n",
              "      <td>6250.00130</td>\n",
              "      <td>339.890</td>\n",
              "      <td>0.2537</td>\n",
              "    </tr>\n",
              "    <tr>\n",
              "      <th>4725</th>\n",
              "      <td>1182</td>\n",
              "      <td>boat</td>\n",
              "      <td>1</td>\n",
              "      <td>6250.00130</td>\n",
              "      <td>235.436</td>\n",
              "      <td>0.6817</td>\n",
              "    </tr>\n",
              "    <tr>\n",
              "      <th>4726</th>\n",
              "      <td>1182</td>\n",
              "      <td>charter</td>\n",
              "      <td>0</td>\n",
              "      <td>6250.00130</td>\n",
              "      <td>260.436</td>\n",
              "      <td>2.3014</td>\n",
              "    </tr>\n",
              "    <tr>\n",
              "      <th>4727</th>\n",
              "      <td>1182</td>\n",
              "      <td>pier</td>\n",
              "      <td>0</td>\n",
              "      <td>6250.00130</td>\n",
              "      <td>339.890</td>\n",
              "      <td>0.1498</td>\n",
              "    </tr>\n",
              "  </tbody>\n",
              "</table>\n",
              "<p>4728 rows × 6 columns</p>\n",
              "</div>"
            ],
            "text/plain": [
              "        id      alt  choice      income    price   catch\n",
              "0        1    beach       0  7083.33170  157.930  0.0678\n",
              "1        1     boat       0  7083.33170  157.930  0.2601\n",
              "2        1  charter       1  7083.33170  182.930  0.5391\n",
              "3        1     pier       0  7083.33170  157.930  0.0503\n",
              "4        2    beach       0  1249.99980   15.114  0.1049\n",
              "...    ...      ...     ...         ...      ...     ...\n",
              "4723  1181     pier       0   416.66668   36.636  0.4522\n",
              "4724  1182    beach       0  6250.00130  339.890  0.2537\n",
              "4725  1182     boat       1  6250.00130  235.436  0.6817\n",
              "4726  1182  charter       0  6250.00130  260.436  2.3014\n",
              "4727  1182     pier       0  6250.00130  339.890  0.1498\n",
              "\n",
              "[4728 rows x 6 columns]"
            ]
          },
          "metadata": {
            "tags": []
          },
          "execution_count": 8
        }
      ]
    },
    {
      "cell_type": "markdown",
      "metadata": {
        "id": "rffV7cx8ORpP"
      },
      "source": [
        "### Fit model"
      ]
    },
    {
      "cell_type": "markdown",
      "metadata": {
        "id": "UFcmUz8Xo6UT"
      },
      "source": [
        "Once the data is in the `Python` environment, `xlogit` can be used to fit the model, as shown below. The `MultinomialLogit` class is imported from `xlogit`, and its constructor is used to initialize a new model. The `fit` method estimates the model using the input data and estimation criteria provided as arguments to the method's call. The arguments of the `fit` methods are described in [`xlogit`'s documentation](https://https://xlogit.readthedocs.io/en/latest/api/).\n"
      ]
    },
    {
      "cell_type": "code",
      "metadata": {
        "id": "FIZwBe0zedfh",
        "colab": {
          "base_uri": "https://localhost:8080/"
        },
        "outputId": "92ecd5be-74d0-4a06-a410-7fb90d9199ed"
      },
      "source": [
        "from xlogit import MixedLogit\n",
        "varnames = ['price', 'catch']\n",
        "model = MixedLogit()\n",
        "model.fit(X=df[varnames],\n",
        "          y=df['choice'],\n",
        "          varnames=varnames,\n",
        "          alts=df['alt'],\n",
        "          ids=df['id'],\n",
        "          n_draws=1000,\n",
        "          randvars={'price': 'n', 'catch': 'n'})\n",
        "model.summary()"
      ],
      "execution_count": null,
      "outputs": [
        {
          "output_type": "stream",
          "text": [
            "GPU processing enabled.\n",
            "Optimization terminated successfully.\n",
            "         Current function value: 1300.511342\n",
            "         Iterations: 42\n",
            "         Function evaluations: 55\n",
            "         Gradient evaluations: 55\n",
            "Estimation time= 1.3 seconds\n",
            "---------------------------------------------------------------------------\n",
            "Coefficient              Estimate      Std.Err.         z-val         P>|z|\n",
            "---------------------------------------------------------------------------\n",
            "price                  -0.0272460     0.0022980   -11.8561596      1.09e-29 ***\n",
            "catch                   1.3271142     0.1743120     7.6134421      4.01e-13 ***\n",
            "sd.price                0.0102129     0.0021859     4.6722783      1.59e-05 ***\n",
            "sd.catch               -1.5706821     0.3762555    -4.1745090      0.000139 ***\n",
            "---------------------------------------------------------------------------\n",
            "Significance:  0 '***' 0.001 '**' 0.01 '*' 0.05 '.' 0.1 ' ' 1\n",
            "\n",
            "Log-Likelihood= -1300.511\n",
            "AIC= 2609.023\n",
            "BIC= 2629.323\n"
          ],
          "name": "stdout"
        }
      ]
    },
    {
      "cell_type": "markdown",
      "metadata": {
        "id": "FnxV4Ekzq5nr"
      },
      "source": [
        "### Prediction"
      ]
    },
    {
      "cell_type": "markdown",
      "metadata": {
        "id": "fR6GZoF2z3n-"
      },
      "source": [
        "`xlogit` also provides a convenient set of post-estimation tools for prediction or forecasting. The `predict` function uses estimated parameters and a new or updated dataset to compute predicted choices. By including the `return_proba` and `return_freq` parameters in the function's call, users can also obtain the predicted probabilities and frequency of the chosen alternatives. The following code illustrates the prediction functionality to forecast changes in market shares (choice frequency) for fishing modes caused by an increase in price for the \"boat\" mode. First, base market shares are computed by running `predict` on the original dataset. Then, an increase of 20% in the price for the \"boat\" alternative is applied to the dataset and the updated shares are predicted. "
      ]
    },
    {
      "cell_type": "code",
      "metadata": {
        "colab": {
          "base_uri": "https://localhost:8080/"
        },
        "id": "KsXw9BK3q7BO",
        "outputId": "d8bc4648-c931-4ff3-ac66-319a571de927"
      },
      "source": [
        "choices, freq = model.predict(X=df[varnames], varnames=varnames, ids=df['id'],\n",
        "                              alts=df['alt'], return_freq=True)\n",
        "print(f\"base: {freq}\")\n",
        "\n",
        "df.loc[df['alt']=='boat', 'price'] *= 1.2  # 20 percent price increase\n",
        "choices, freq = model.predict(X=df[varnames], varnames=varnames, ids=df['id'],\n",
        "                              alts=df['alt'], return_freq=True)\n",
        "print(f\"updated: {freq}\")"
      ],
      "execution_count": null,
      "outputs": [
        {
          "output_type": "stream",
          "text": [
            "GPU processing enabled.\n",
            "base: {'beach': 0.223, 'boat': 0.461, 'charter': 0.228, 'pier': 0.089}\n",
            "GPU processing enabled.\n",
            "updated: {'beach': 0.239, 'boat': 0.377, 'charter': 0.278, 'pier': 0.106}\n"
          ],
          "name": "stdout"
        }
      ]
    },
    {
      "cell_type": "markdown",
      "metadata": {
        "id": "Nzxkhkwz0Q5d"
      },
      "source": [
        "The output shows that the 20% price increase would result in a decrease of almost 10% in market share for the \"boat\" alternative."
      ]
    },
    {
      "cell_type": "markdown",
      "metadata": {
        "id": "mWU80LmcODPY"
      },
      "source": [
        "## Car Dataset"
      ]
    },
    {
      "cell_type": "markdown",
      "metadata": {
        "id": "q1zgiBGKouPr"
      },
      "source": [
        "The fourth example uses a stated preference panel dataset for choice of car. Three alternatives are considered, with upto 6 choice situations per individual. This again is an unbalanced panel with responses of some individuals less than 6 situations. The dataset contains 8 explanaotry variables: price, operating cost, range, and binary indicators to indicate whether the car is electric, hybrid, and if performance is high or medium respectively. This dataset was taken from Kenneth Train's MATLAB codes for estimation of Mixed Logit models as shown in this link: https://eml.berkeley.edu/Software/abstracts/train1006mxlmsl.html"
      ]
    },
    {
      "cell_type": "markdown",
      "metadata": {
        "id": "SoSyQfjqkNU3"
      },
      "source": [
        "### Read data"
      ]
    },
    {
      "cell_type": "code",
      "metadata": {
        "id": "v8AAMruCj8tt"
      },
      "source": [
        "import pandas as pd\n",
        "import numpy as np\n",
        "\n",
        "df = pd.read_csv(\"https://raw.github.com/arteagac/xlogit/master/examples/data/car100_long.csv\")"
      ],
      "execution_count": null,
      "outputs": []
    },
    {
      "cell_type": "markdown",
      "metadata": {
        "id": "0HY7mT__Lj5b"
      },
      "source": [
        "Since price and operating cost need to be estimated with negative coefficients, we reverse the variable signs in the dataframe. "
      ]
    },
    {
      "cell_type": "code",
      "metadata": {
        "colab": {
          "base_uri": "https://localhost:8080/",
          "height": 424
        },
        "id": "TQ33gsZZLkP5",
        "outputId": "5fcde5ca-9f3d-4c0f-f6d3-2a74eefb6890"
      },
      "source": [
        "df['price'] = -df['price']/10000\n",
        "df['opcost'] = -df['opcost']\n",
        "df"
      ],
      "execution_count": null,
      "outputs": [
        {
          "output_type": "execute_result",
          "data": {
            "text/html": [
              "<div>\n",
              "<style scoped>\n",
              "    .dataframe tbody tr th:only-of-type {\n",
              "        vertical-align: middle;\n",
              "    }\n",
              "\n",
              "    .dataframe tbody tr th {\n",
              "        vertical-align: top;\n",
              "    }\n",
              "\n",
              "    .dataframe thead th {\n",
              "        text-align: right;\n",
              "    }\n",
              "</style>\n",
              "<table border=\"1\" class=\"dataframe\">\n",
              "  <thead>\n",
              "    <tr style=\"text-align: right;\">\n",
              "      <th></th>\n",
              "      <th>person_id</th>\n",
              "      <th>choice_id</th>\n",
              "      <th>alt</th>\n",
              "      <th>choice</th>\n",
              "      <th>price</th>\n",
              "      <th>opcost</th>\n",
              "      <th>range</th>\n",
              "      <th>ev</th>\n",
              "      <th>gas</th>\n",
              "      <th>hybrid</th>\n",
              "      <th>hiperf</th>\n",
              "      <th>medhiperf</th>\n",
              "    </tr>\n",
              "  </thead>\n",
              "  <tbody>\n",
              "    <tr>\n",
              "      <th>0</th>\n",
              "      <td>1</td>\n",
              "      <td>1</td>\n",
              "      <td>1</td>\n",
              "      <td>0</td>\n",
              "      <td>-4.6763</td>\n",
              "      <td>-47.43</td>\n",
              "      <td>0.0</td>\n",
              "      <td>0</td>\n",
              "      <td>0</td>\n",
              "      <td>1</td>\n",
              "      <td>0</td>\n",
              "      <td>0</td>\n",
              "    </tr>\n",
              "    <tr>\n",
              "      <th>1</th>\n",
              "      <td>1</td>\n",
              "      <td>1</td>\n",
              "      <td>2</td>\n",
              "      <td>1</td>\n",
              "      <td>-5.7209</td>\n",
              "      <td>-27.43</td>\n",
              "      <td>1.3</td>\n",
              "      <td>1</td>\n",
              "      <td>0</td>\n",
              "      <td>0</td>\n",
              "      <td>1</td>\n",
              "      <td>1</td>\n",
              "    </tr>\n",
              "    <tr>\n",
              "      <th>2</th>\n",
              "      <td>1</td>\n",
              "      <td>1</td>\n",
              "      <td>3</td>\n",
              "      <td>0</td>\n",
              "      <td>-8.7960</td>\n",
              "      <td>-32.41</td>\n",
              "      <td>1.2</td>\n",
              "      <td>1</td>\n",
              "      <td>0</td>\n",
              "      <td>0</td>\n",
              "      <td>0</td>\n",
              "      <td>1</td>\n",
              "    </tr>\n",
              "    <tr>\n",
              "      <th>3</th>\n",
              "      <td>1</td>\n",
              "      <td>2</td>\n",
              "      <td>1</td>\n",
              "      <td>1</td>\n",
              "      <td>-3.3768</td>\n",
              "      <td>-4.89</td>\n",
              "      <td>1.3</td>\n",
              "      <td>1</td>\n",
              "      <td>0</td>\n",
              "      <td>0</td>\n",
              "      <td>1</td>\n",
              "      <td>1</td>\n",
              "    </tr>\n",
              "    <tr>\n",
              "      <th>4</th>\n",
              "      <td>1</td>\n",
              "      <td>2</td>\n",
              "      <td>2</td>\n",
              "      <td>0</td>\n",
              "      <td>-9.0336</td>\n",
              "      <td>-30.19</td>\n",
              "      <td>0.0</td>\n",
              "      <td>0</td>\n",
              "      <td>0</td>\n",
              "      <td>1</td>\n",
              "      <td>0</td>\n",
              "      <td>1</td>\n",
              "    </tr>\n",
              "    <tr>\n",
              "      <th>...</th>\n",
              "      <td>...</td>\n",
              "      <td>...</td>\n",
              "      <td>...</td>\n",
              "      <td>...</td>\n",
              "      <td>...</td>\n",
              "      <td>...</td>\n",
              "      <td>...</td>\n",
              "      <td>...</td>\n",
              "      <td>...</td>\n",
              "      <td>...</td>\n",
              "      <td>...</td>\n",
              "      <td>...</td>\n",
              "    </tr>\n",
              "    <tr>\n",
              "      <th>4447</th>\n",
              "      <td>100</td>\n",
              "      <td>1483</td>\n",
              "      <td>2</td>\n",
              "      <td>0</td>\n",
              "      <td>-2.8036</td>\n",
              "      <td>-14.45</td>\n",
              "      <td>1.6</td>\n",
              "      <td>1</td>\n",
              "      <td>0</td>\n",
              "      <td>0</td>\n",
              "      <td>0</td>\n",
              "      <td>0</td>\n",
              "    </tr>\n",
              "    <tr>\n",
              "      <th>4448</th>\n",
              "      <td>100</td>\n",
              "      <td>1483</td>\n",
              "      <td>3</td>\n",
              "      <td>0</td>\n",
              "      <td>-1.9360</td>\n",
              "      <td>-54.76</td>\n",
              "      <td>0.0</td>\n",
              "      <td>0</td>\n",
              "      <td>1</td>\n",
              "      <td>0</td>\n",
              "      <td>1</td>\n",
              "      <td>1</td>\n",
              "    </tr>\n",
              "    <tr>\n",
              "      <th>4449</th>\n",
              "      <td>100</td>\n",
              "      <td>1484</td>\n",
              "      <td>1</td>\n",
              "      <td>1</td>\n",
              "      <td>-2.4054</td>\n",
              "      <td>-50.57</td>\n",
              "      <td>0.0</td>\n",
              "      <td>0</td>\n",
              "      <td>1</td>\n",
              "      <td>0</td>\n",
              "      <td>0</td>\n",
              "      <td>0</td>\n",
              "    </tr>\n",
              "    <tr>\n",
              "      <th>4450</th>\n",
              "      <td>100</td>\n",
              "      <td>1484</td>\n",
              "      <td>2</td>\n",
              "      <td>0</td>\n",
              "      <td>-5.2795</td>\n",
              "      <td>-21.25</td>\n",
              "      <td>0.0</td>\n",
              "      <td>0</td>\n",
              "      <td>0</td>\n",
              "      <td>1</td>\n",
              "      <td>0</td>\n",
              "      <td>1</td>\n",
              "    </tr>\n",
              "    <tr>\n",
              "      <th>4451</th>\n",
              "      <td>100</td>\n",
              "      <td>1484</td>\n",
              "      <td>3</td>\n",
              "      <td>0</td>\n",
              "      <td>-6.0705</td>\n",
              "      <td>-25.41</td>\n",
              "      <td>1.4</td>\n",
              "      <td>1</td>\n",
              "      <td>0</td>\n",
              "      <td>0</td>\n",
              "      <td>0</td>\n",
              "      <td>0</td>\n",
              "    </tr>\n",
              "  </tbody>\n",
              "</table>\n",
              "<p>4452 rows × 12 columns</p>\n",
              "</div>"
            ],
            "text/plain": [
              "      person_id  choice_id  alt  choice  ...  gas  hybrid  hiperf  medhiperf\n",
              "0             1          1    1       0  ...    0       1       0          0\n",
              "1             1          1    2       1  ...    0       0       1          1\n",
              "2             1          1    3       0  ...    0       0       0          1\n",
              "3             1          2    1       1  ...    0       0       1          1\n",
              "4             1          2    2       0  ...    0       1       0          1\n",
              "...         ...        ...  ...     ...  ...  ...     ...     ...        ...\n",
              "4447        100       1483    2       0  ...    0       0       0          0\n",
              "4448        100       1483    3       0  ...    1       0       1          1\n",
              "4449        100       1484    1       1  ...    1       0       0          0\n",
              "4450        100       1484    2       0  ...    0       1       0          1\n",
              "4451        100       1484    3       0  ...    0       0       0          0\n",
              "\n",
              "[4452 rows x 12 columns]"
            ]
          },
          "metadata": {
            "tags": []
          },
          "execution_count": 12
        }
      ]
    },
    {
      "cell_type": "markdown",
      "metadata": {
        "id": "_ZQf9DFKFE5j"
      },
      "source": [
        "### Fit the model"
      ]
    },
    {
      "cell_type": "code",
      "metadata": {
        "id": "_MhfvmWgFCX6",
        "colab": {
          "base_uri": "https://localhost:8080/"
        },
        "outputId": "6bc924e9-7549-425e-fa45-83848e268de9"
      },
      "source": [
        "from xlogit import MixedLogit\n",
        "\n",
        "varnames = ['hiperf', 'medhiperf', 'price', 'opcost', 'range', 'ev', 'hybrid'] \n",
        "model = MixedLogit()\n",
        "model.fit(X=df[varnames],\n",
        "          y=df['choice'],\n",
        "          varnames=varnames,\n",
        "          alts=df['alt'],\n",
        "          ids=df['choice_id'],\n",
        "          panels=df['person_id'],\n",
        "          randvars = {'price': 'ln', 'opcost': 'n', \n",
        "                      'range': 'ln', 'ev':'n', 'hybrid': 'n'}, \n",
        "          n_draws = 100) \n",
        "model.summary()"
      ],
      "execution_count": null,
      "outputs": [
        {
          "output_type": "stream",
          "text": [
            "GPU processing enabled.\n",
            "Optimization terminated successfully.\n",
            "         Current function value: 1297.937510\n",
            "         Iterations: 52\n",
            "         Function evaluations: 63\n",
            "         Gradient evaluations: 63\n",
            "Estimation time= 0.5 seconds\n",
            "---------------------------------------------------------------------------\n",
            "Coefficient              Estimate      Std.Err.         z-val         P>|z|\n",
            "---------------------------------------------------------------------------\n",
            "hiperf                  0.1059300     0.0923764     1.1467216         0.411    \n",
            "medhiperf               0.5660352     0.0961273     5.8883953      2.36e-07 ***\n",
            "price                  -0.7861318     0.1358040    -5.7887229      3.65e-07 ***\n",
            "opcost                  0.0120780     0.0057487     2.1009905        0.0898 .  \n",
            "range                  -0.5886938     0.3564083    -1.6517401         0.204    \n",
            "ev                     -1.6330363     0.3232833    -5.0514085      8.25e-06 ***\n",
            "hybrid                  0.6902022     0.1474823     4.6798989      3.61e-05 ***\n",
            "sd.price                0.8241904     0.0970293     8.4942402      9.71e-13 ***\n",
            "sd.opcost               0.0372727     0.0057037     6.5348697      1.26e-08 ***\n",
            "sd.range                0.4835210     0.2066505     2.3398009        0.0539 .  \n",
            "sd.ev                   1.1565014     0.1872419     6.1765093      6.51e-08 ***\n",
            "sd.hybrid              -0.7108413     0.1552237    -4.5794638      5.31e-05 ***\n",
            "---------------------------------------------------------------------------\n",
            "Significance:  0 '***' 0.001 '**' 0.01 '*' 0.05 '.' 0.1 ' ' 1\n",
            "\n",
            "Log-Likelihood= -1297.938\n",
            "AIC= 2619.875\n",
            "BIC= 2651.137\n"
          ],
          "name": "stdout"
        }
      ]
    },
    {
      "cell_type": "markdown",
      "metadata": {
        "id": "pEiWWuCciEJ6"
      },
      "source": [
        "## References"
      ]
    },
    {
      "cell_type": "markdown",
      "metadata": {
        "id": "UkfFmr7fiFxc"
      },
      "source": [
        "- Bierlaire, M. (2018). PandasBiogeme: a short introduction. EPFL (Transport and Mobility Laboratory, ENAC).\n",
        "\n",
        "- Brathwaite, T., & Walker, J. L. (2018). Asymmetric, closed-form, finite-parameter models of multinomial choice. Journal of Choice Modelling, 29, 78–112. \n",
        "\n",
        "- Cameron, A. C., & Trivedi, P. K. (2005). Microeconometrics: methods and applications. Cambridge university press.\n",
        "\n",
        "- Croissant, Y. (2020). Estimation of Random Utility Models in R: The mlogit Package. Journal of Statistical Software, 95(1), 1-41.\n",
        "\n",
        "- Revelt, D., & Train, K. (1999). Customer-specific taste parameters and mixed logit. University of California, Berkeley.\n",
        "\n"
      ]
    }
  ]
}