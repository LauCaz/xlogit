{
  "nbformat": 4,
  "nbformat_minor": 0,
  "metadata": {
    "colab": {
      "name": "mixed_logit_model.ipynb",
      "provenance": [],
      "collapsed_sections": [],
      "include_colab_link": true
    },
    "kernelspec": {
      "name": "python3",
      "display_name": "Python 3"
    },
    "accelerator": "GPU"
  },
  "cells": [
    {
      "cell_type": "markdown",
      "metadata": {
        "id": "view-in-github",
        "colab_type": "text"
      },
      "source": [
        "<a href=\"https://colab.research.google.com/github/arteagac/xlogit/blob/master/examples/mixed_logit_model.ipynb\" target=\"_parent\"><img src=\"https://colab.research.google.com/assets/colab-badge.svg\" alt=\"Open In Colab\"/></a>"
      ]
    },
    {
      "cell_type": "markdown",
      "metadata": {
        "id": "TJHlxbR5kEe-"
      },
      "source": [
        "# Mixed Logit"
      ]
    },
    {
      "cell_type": "markdown",
      "metadata": {
        "id": "qXO6ZtU_F2b4"
      },
      "source": [
        "The purpose of this notebook is to provide users with a step-by-step guide for estimating mixed logit models using xlogit package. "
      ]
    },
    {
      "cell_type": "markdown",
      "metadata": {
        "id": "mra0NiIOFSie"
      },
      "source": [
        "## Install `xlogit` package"
      ]
    },
    {
      "cell_type": "markdown",
      "metadata": {
        "id": "rvLSzJP1GfP1"
      },
      "source": [
        "First, we install `xlogit` package using pip install as shown below:"
      ]
    },
    {
      "cell_type": "code",
      "metadata": {
        "id": "V9wp9JfvjvkQ",
        "colab": {
          "base_uri": "https://localhost:8080/"
        },
        "outputId": "6fcc2f9d-9b04-48b1-bfb1-0fe50de0cb93"
      },
      "source": [
        "!pip install git+https://github.com/arteagac/xlogit"
      ],
      "execution_count": 1,
      "outputs": [
        {
          "output_type": "stream",
          "text": [
            "Collecting git+https://github.com/arteagac/xlogit\n",
            "  Cloning https://github.com/arteagac/xlogit to /tmp/pip-req-build-ihyvxmo1\n",
            "  Running command git clone -q https://github.com/arteagac/xlogit /tmp/pip-req-build-ihyvxmo1\n",
            "Requirement already satisfied: numpy>=1.13.1 in /usr/local/lib/python3.6/dist-packages (from xlogit==0.0.1) (1.19.4)\n",
            "Requirement already satisfied: scipy>=1.0.0 in /usr/local/lib/python3.6/dist-packages (from xlogit==0.0.1) (1.4.1)\n",
            "Building wheels for collected packages: xlogit\n",
            "  Building wheel for xlogit (setup.py) ... \u001b[?25l\u001b[?25hdone\n",
            "  Created wheel for xlogit: filename=xlogit-0.0.1-cp36-none-any.whl size=12856 sha256=68d902165a0304cfd255e83c528ed72eb9e31f236f974e2d9bedcab6300ddb5b\n",
            "  Stored in directory: /tmp/pip-ephem-wheel-cache-eb2t16jm/wheels/64/50/8d/a97e0500aac20b521a2896234d6598045323a7d0daca37648a\n",
            "Successfully built xlogit\n",
            "Installing collected packages: xlogit\n",
            "Successfully installed xlogit-0.0.1\n"
          ],
          "name": "stdout"
        }
      ]
    },
    {
      "cell_type": "markdown",
      "metadata": {
        "id": "dt6rAYtH3Djj"
      },
      "source": [
        "## Electricity Dataset"
      ]
    },
    {
      "cell_type": "markdown",
      "metadata": {
        "id": "4y0MOFfOHzWb"
      },
      "source": [
        "For the first example, we use the Electricity dataset from the study https://escholarship.org/content/qt1900p96t/qt1900p96t.pdf. This dataset is popularly used in examples of R's mlogit package and can be downloaded from https://raw.githubusercontent.com/arteagac/xlogit/master/examples/data/electricity_long.csv\" in the long format. The dataset is  from a stated choice experiment conducted to analyse customers' preferences towards four hypothetical electricity suppliers. "
      ]
    },
    {
      "cell_type": "markdown",
      "metadata": {
        "id": "wOjSrftv3Gtm"
      },
      "source": [
        "### Read data"
      ]
    },
    {
      "cell_type": "code",
      "metadata": {
        "id": "fLgHickp3IJw",
        "colab": {
          "base_uri": "https://localhost:8080/",
          "height": 424
        },
        "outputId": "12717d78-9fd6-4098-dfd4-01acf8fb041e"
      },
      "source": [
        "import pandas as pd\n",
        "import numpy as np\n",
        "df = pd.read_csv(\"https://raw.githubusercontent.com/arteagac/xlogit/master/examples/data/electricity_long.csv\")\n",
        "df"
      ],
      "execution_count": 2,
      "outputs": [
        {
          "output_type": "execute_result",
          "data": {
            "text/html": [
              "<div>\n",
              "<style scoped>\n",
              "    .dataframe tbody tr th:only-of-type {\n",
              "        vertical-align: middle;\n",
              "    }\n",
              "\n",
              "    .dataframe tbody tr th {\n",
              "        vertical-align: top;\n",
              "    }\n",
              "\n",
              "    .dataframe thead th {\n",
              "        text-align: right;\n",
              "    }\n",
              "</style>\n",
              "<table border=\"1\" class=\"dataframe\">\n",
              "  <thead>\n",
              "    <tr style=\"text-align: right;\">\n",
              "      <th></th>\n",
              "      <th>choice</th>\n",
              "      <th>id</th>\n",
              "      <th>alt</th>\n",
              "      <th>pf</th>\n",
              "      <th>cl</th>\n",
              "      <th>loc</th>\n",
              "      <th>wk</th>\n",
              "      <th>tod</th>\n",
              "      <th>seas</th>\n",
              "      <th>chid</th>\n",
              "    </tr>\n",
              "  </thead>\n",
              "  <tbody>\n",
              "    <tr>\n",
              "      <th>0</th>\n",
              "      <td>0</td>\n",
              "      <td>1</td>\n",
              "      <td>1</td>\n",
              "      <td>7</td>\n",
              "      <td>5</td>\n",
              "      <td>0</td>\n",
              "      <td>1</td>\n",
              "      <td>0</td>\n",
              "      <td>0</td>\n",
              "      <td>1</td>\n",
              "    </tr>\n",
              "    <tr>\n",
              "      <th>1</th>\n",
              "      <td>0</td>\n",
              "      <td>1</td>\n",
              "      <td>2</td>\n",
              "      <td>9</td>\n",
              "      <td>1</td>\n",
              "      <td>1</td>\n",
              "      <td>0</td>\n",
              "      <td>0</td>\n",
              "      <td>0</td>\n",
              "      <td>1</td>\n",
              "    </tr>\n",
              "    <tr>\n",
              "      <th>2</th>\n",
              "      <td>0</td>\n",
              "      <td>1</td>\n",
              "      <td>3</td>\n",
              "      <td>0</td>\n",
              "      <td>0</td>\n",
              "      <td>0</td>\n",
              "      <td>0</td>\n",
              "      <td>0</td>\n",
              "      <td>1</td>\n",
              "      <td>1</td>\n",
              "    </tr>\n",
              "    <tr>\n",
              "      <th>3</th>\n",
              "      <td>1</td>\n",
              "      <td>1</td>\n",
              "      <td>4</td>\n",
              "      <td>0</td>\n",
              "      <td>5</td>\n",
              "      <td>0</td>\n",
              "      <td>1</td>\n",
              "      <td>1</td>\n",
              "      <td>0</td>\n",
              "      <td>1</td>\n",
              "    </tr>\n",
              "    <tr>\n",
              "      <th>4</th>\n",
              "      <td>0</td>\n",
              "      <td>1</td>\n",
              "      <td>1</td>\n",
              "      <td>7</td>\n",
              "      <td>0</td>\n",
              "      <td>0</td>\n",
              "      <td>1</td>\n",
              "      <td>0</td>\n",
              "      <td>0</td>\n",
              "      <td>2</td>\n",
              "    </tr>\n",
              "    <tr>\n",
              "      <th>...</th>\n",
              "      <td>...</td>\n",
              "      <td>...</td>\n",
              "      <td>...</td>\n",
              "      <td>...</td>\n",
              "      <td>...</td>\n",
              "      <td>...</td>\n",
              "      <td>...</td>\n",
              "      <td>...</td>\n",
              "      <td>...</td>\n",
              "      <td>...</td>\n",
              "    </tr>\n",
              "    <tr>\n",
              "      <th>17227</th>\n",
              "      <td>0</td>\n",
              "      <td>361</td>\n",
              "      <td>4</td>\n",
              "      <td>0</td>\n",
              "      <td>1</td>\n",
              "      <td>1</td>\n",
              "      <td>0</td>\n",
              "      <td>0</td>\n",
              "      <td>1</td>\n",
              "      <td>4307</td>\n",
              "    </tr>\n",
              "    <tr>\n",
              "      <th>17228</th>\n",
              "      <td>1</td>\n",
              "      <td>361</td>\n",
              "      <td>1</td>\n",
              "      <td>9</td>\n",
              "      <td>0</td>\n",
              "      <td>0</td>\n",
              "      <td>1</td>\n",
              "      <td>0</td>\n",
              "      <td>0</td>\n",
              "      <td>4308</td>\n",
              "    </tr>\n",
              "    <tr>\n",
              "      <th>17229</th>\n",
              "      <td>0</td>\n",
              "      <td>361</td>\n",
              "      <td>2</td>\n",
              "      <td>7</td>\n",
              "      <td>0</td>\n",
              "      <td>0</td>\n",
              "      <td>0</td>\n",
              "      <td>0</td>\n",
              "      <td>0</td>\n",
              "      <td>4308</td>\n",
              "    </tr>\n",
              "    <tr>\n",
              "      <th>17230</th>\n",
              "      <td>0</td>\n",
              "      <td>361</td>\n",
              "      <td>3</td>\n",
              "      <td>0</td>\n",
              "      <td>1</td>\n",
              "      <td>0</td>\n",
              "      <td>1</td>\n",
              "      <td>0</td>\n",
              "      <td>1</td>\n",
              "      <td>4308</td>\n",
              "    </tr>\n",
              "    <tr>\n",
              "      <th>17231</th>\n",
              "      <td>0</td>\n",
              "      <td>361</td>\n",
              "      <td>4</td>\n",
              "      <td>0</td>\n",
              "      <td>5</td>\n",
              "      <td>1</td>\n",
              "      <td>0</td>\n",
              "      <td>1</td>\n",
              "      <td>0</td>\n",
              "      <td>4308</td>\n",
              "    </tr>\n",
              "  </tbody>\n",
              "</table>\n",
              "<p>17232 rows × 10 columns</p>\n",
              "</div>"
            ],
            "text/plain": [
              "       choice   id  alt  pf  cl  loc  wk  tod  seas  chid\n",
              "0           0    1    1   7   5    0   1    0     0     1\n",
              "1           0    1    2   9   1    1   0    0     0     1\n",
              "2           0    1    3   0   0    0   0    0     1     1\n",
              "3           1    1    4   0   5    0   1    1     0     1\n",
              "4           0    1    1   7   0    0   1    0     0     2\n",
              "...       ...  ...  ...  ..  ..  ...  ..  ...   ...   ...\n",
              "17227       0  361    4   0   1    1   0    0     1  4307\n",
              "17228       1  361    1   9   0    0   1    0     0  4308\n",
              "17229       0  361    2   7   0    0   0    0     0  4308\n",
              "17230       0  361    3   0   1    0   1    0     1  4308\n",
              "17231       0  361    4   0   5    1   0    1     0  4308\n",
              "\n",
              "[17232 rows x 10 columns]"
            ]
          },
          "metadata": {
            "tags": []
          },
          "execution_count": 2
        }
      ]
    },
    {
      "cell_type": "markdown",
      "metadata": {
        "id": "BTt5KWSee29E"
      },
      "source": [
        "The dataset is in panel form, with each individual reporting preferences for upto 12 choice situations. Since, all inidividuals have not responded to all the 12 situations, the dataset in an unbalanced panel. 361 individuals were interviewed with a total of 4,308 observations. See https://cran.r-project.org/web/packages/mlogit/vignettes/e3mxlogit.html for more details on the attributes and the choice analyses."
      ]
    },
    {
      "cell_type": "markdown",
      "metadata": {
        "id": "gFUpTIpU3-Oi"
      },
      "source": [
        "### Fit the model"
      ]
    },
    {
      "cell_type": "markdown",
      "metadata": {
        "id": "_JCeWHSLe7f9"
      },
      "source": [
        "The data needs to be in long format. The user inputs required to fit the model are as follows:\r\n",
        "\r\n",
        "1.   `X`: dataframe columns with respect to varnames\r\n",
        "2.   `y`: dataframe column containing the choice outcome\r\n",
        "3.   `varnames`: list containing all the explanatory variable names to be included in the model \r\n",
        "4.   `isvars`: list of individual-specific variables in varnames\r\n",
        "5.   `alts`: dataframe column containing the alternative ids\r\n",
        "6.   `randvars`: dictionary of mixing distributions. Possible distributions include 'n'-normal; 'u'-uniform; 'ln'-lognormal; 'tn'-truncated normal; 't'-triangular\r\n",
        "7.   `panels`: dataframe column containing the unique individual id\r\n",
        "8.   `n_draws`: number of random draws for the cofficients (default value is 100)\r\n",
        "\r\n",
        "The model.fit object from class MixedLogit is called to fit the model. The fit results can be seen using model.summary()."
      ]
    },
    {
      "cell_type": "code",
      "metadata": {
        "id": "It7kU3GE3XV0",
        "colab": {
          "base_uri": "https://localhost:8080/"
        },
        "outputId": "7dafa9f5-d097-4902-e683-a7415140a09d"
      },
      "source": [
        "varnames = [\"pf\", \"cl\", \"loc\", \"wk\", \"tod\", \"seas\"]\n",
        "X = df[varnames].values\n",
        "y = df['choice'].values\n",
        "\n",
        "from xlogit import MixedLogit\n",
        "model = MixedLogit()\n",
        "model.fit(X, y, \n",
        "          varnames, \n",
        "          alts=df['alt'], \n",
        "          randvars={'pf': 'n','cl':'n','loc':'n','wk':'n','tod':'n','seas':'n'}, \n",
        "          panels=df.id.values,\n",
        "          n_draws=600)\n",
        "model.summary()"
      ],
      "execution_count": 3,
      "outputs": [
        {
          "output_type": "stream",
          "text": [
            "Estimation with GPU processing enabled.\n",
            "Optimization terminated successfully.\n",
            "         Current function value: 3888.413414\n",
            "         Iterations: 46\n",
            "         Function evaluations: 51\n",
            "         Gradient evaluations: 51\n",
            "Estimation time= 14.8 seconds\n",
            "---------------------------------------------------------------------------\n",
            "Coefficient              Estimate      Std.Err.         z-val         P>|z|\n",
            "---------------------------------------------------------------------------\n",
            "pf                     -0.9996286     0.0331488   -30.1557541     9.98e-100 ***\n",
            "cl                     -0.2355334     0.0220401   -10.6865870      1.97e-22 ***\n",
            "loc                     2.2307891     0.1164263    19.1605300      5.64e-56 ***\n",
            "wk                      1.6251657     0.0918755    17.6887855      6.85e-50 ***\n",
            "tod                    -9.6067367     0.3112721   -30.8628296     2.36e-102 ***\n",
            "seas                   -9.7892800     0.2913063   -33.6047603     2.81e-112 ***\n",
            "sd.pf                   0.2357813     0.0181892    12.9627201      7.25e-31 ***\n",
            "sd.cl                   0.4025377     0.0220183    18.2819903      2.43e-52 ***\n",
            "sd.loc                  1.9262893     0.1187850    16.2166103      7.67e-44 ***\n",
            "sd.wk                  -1.2192931     0.0944581   -12.9083017      1.17e-30 ***\n",
            "sd.tod                  2.3354462     0.1741859    13.4077786      1.37e-32 ***\n",
            "sd.seas                -1.4200913     0.2095869    -6.7756668       3.1e-10 ***\n",
            "---------------------------------------------------------------------------\n",
            "Significance:  0 '***' 0.001 '**' 0.01 '*' 0.05 '.' 0.1 ' ' 1\n",
            "\n",
            "Log-Likelihood= -3888.413\n",
            "AIC= 7800.827\n",
            "BIC= 7847.493\n"
          ],
          "name": "stdout"
        }
      ]
    },
    {
      "cell_type": "markdown",
      "metadata": {
        "id": "GWm-ydF3kxSr"
      },
      "source": [
        "The xlogit estimates are similar to those estimated using R's mlogit package (https://cran.r-project.org/web/packages/mlogit/vignettes/e3mxlogit.html). With GPU enables estimations, xlogit estimates the model in less than 6 seconds, significantly faster than open-source pacakges such as mlogit and Biogeme. This feature can be beneficial while fitting models for large datasets with multiple explanatory variables to be estimated with random coefficients."
      ]
    },
    {
      "cell_type": "markdown",
      "metadata": {
        "id": "r9gxNL0XePRc"
      },
      "source": [
        "## Fishing Dataset"
      ]
    },
    {
      "cell_type": "markdown",
      "metadata": {
        "id": "Innu2ypbmKui"
      },
      "source": [
        "The second example uses the revealed preferences dataset of fishing mode choice of 1,182 individuals. The dataset is also open-source dataset and is used in mlogit examples. It can be downloaded from https://raw.githubusercontent.com/arteagac/xlogit/master/examples/data/fishing_long.csv in long format. More information on the dataset can be found in http://www2.uaem.mx/r-mirror/web/packages/mlogit/vignettes/mlogit.pdf"
      ]
    },
    {
      "cell_type": "markdown",
      "metadata": {
        "id": "cqBJWh8eOQDp"
      },
      "source": [
        "### Read data"
      ]
    },
    {
      "cell_type": "code",
      "metadata": {
        "id": "9jDr3PIveaG8",
        "colab": {
          "base_uri": "https://localhost:8080/",
          "height": 424
        },
        "outputId": "010374a5-60e1-41a1-d9e1-d107e4825389"
      },
      "source": [
        "import pandas as pd\n",
        "df = pd.read_csv(\"https://raw.githubusercontent.com/arteagac/xlogit/master/examples/data/fishing_long.csv\")\n",
        "df"
      ],
      "execution_count": 4,
      "outputs": [
        {
          "output_type": "execute_result",
          "data": {
            "text/html": [
              "<div>\n",
              "<style scoped>\n",
              "    .dataframe tbody tr th:only-of-type {\n",
              "        vertical-align: middle;\n",
              "    }\n",
              "\n",
              "    .dataframe tbody tr th {\n",
              "        vertical-align: top;\n",
              "    }\n",
              "\n",
              "    .dataframe thead th {\n",
              "        text-align: right;\n",
              "    }\n",
              "</style>\n",
              "<table border=\"1\" class=\"dataframe\">\n",
              "  <thead>\n",
              "    <tr style=\"text-align: right;\">\n",
              "      <th></th>\n",
              "      <th>id</th>\n",
              "      <th>alt</th>\n",
              "      <th>choice</th>\n",
              "      <th>income</th>\n",
              "      <th>price</th>\n",
              "      <th>catch</th>\n",
              "    </tr>\n",
              "  </thead>\n",
              "  <tbody>\n",
              "    <tr>\n",
              "      <th>0</th>\n",
              "      <td>1</td>\n",
              "      <td>beach</td>\n",
              "      <td>0</td>\n",
              "      <td>7083.33170</td>\n",
              "      <td>157.930</td>\n",
              "      <td>0.0678</td>\n",
              "    </tr>\n",
              "    <tr>\n",
              "      <th>1</th>\n",
              "      <td>1</td>\n",
              "      <td>boat</td>\n",
              "      <td>0</td>\n",
              "      <td>7083.33170</td>\n",
              "      <td>157.930</td>\n",
              "      <td>0.2601</td>\n",
              "    </tr>\n",
              "    <tr>\n",
              "      <th>2</th>\n",
              "      <td>1</td>\n",
              "      <td>charter</td>\n",
              "      <td>1</td>\n",
              "      <td>7083.33170</td>\n",
              "      <td>182.930</td>\n",
              "      <td>0.5391</td>\n",
              "    </tr>\n",
              "    <tr>\n",
              "      <th>3</th>\n",
              "      <td>1</td>\n",
              "      <td>pier</td>\n",
              "      <td>0</td>\n",
              "      <td>7083.33170</td>\n",
              "      <td>157.930</td>\n",
              "      <td>0.0503</td>\n",
              "    </tr>\n",
              "    <tr>\n",
              "      <th>4</th>\n",
              "      <td>2</td>\n",
              "      <td>beach</td>\n",
              "      <td>0</td>\n",
              "      <td>1249.99980</td>\n",
              "      <td>15.114</td>\n",
              "      <td>0.1049</td>\n",
              "    </tr>\n",
              "    <tr>\n",
              "      <th>...</th>\n",
              "      <td>...</td>\n",
              "      <td>...</td>\n",
              "      <td>...</td>\n",
              "      <td>...</td>\n",
              "      <td>...</td>\n",
              "      <td>...</td>\n",
              "    </tr>\n",
              "    <tr>\n",
              "      <th>4723</th>\n",
              "      <td>1181</td>\n",
              "      <td>pier</td>\n",
              "      <td>0</td>\n",
              "      <td>416.66668</td>\n",
              "      <td>36.636</td>\n",
              "      <td>0.4522</td>\n",
              "    </tr>\n",
              "    <tr>\n",
              "      <th>4724</th>\n",
              "      <td>1182</td>\n",
              "      <td>beach</td>\n",
              "      <td>0</td>\n",
              "      <td>6250.00130</td>\n",
              "      <td>339.890</td>\n",
              "      <td>0.2537</td>\n",
              "    </tr>\n",
              "    <tr>\n",
              "      <th>4725</th>\n",
              "      <td>1182</td>\n",
              "      <td>boat</td>\n",
              "      <td>1</td>\n",
              "      <td>6250.00130</td>\n",
              "      <td>235.436</td>\n",
              "      <td>0.6817</td>\n",
              "    </tr>\n",
              "    <tr>\n",
              "      <th>4726</th>\n",
              "      <td>1182</td>\n",
              "      <td>charter</td>\n",
              "      <td>0</td>\n",
              "      <td>6250.00130</td>\n",
              "      <td>260.436</td>\n",
              "      <td>2.3014</td>\n",
              "    </tr>\n",
              "    <tr>\n",
              "      <th>4727</th>\n",
              "      <td>1182</td>\n",
              "      <td>pier</td>\n",
              "      <td>0</td>\n",
              "      <td>6250.00130</td>\n",
              "      <td>339.890</td>\n",
              "      <td>0.1498</td>\n",
              "    </tr>\n",
              "  </tbody>\n",
              "</table>\n",
              "<p>4728 rows × 6 columns</p>\n",
              "</div>"
            ],
            "text/plain": [
              "        id      alt  choice      income    price   catch\n",
              "0        1    beach       0  7083.33170  157.930  0.0678\n",
              "1        1     boat       0  7083.33170  157.930  0.2601\n",
              "2        1  charter       1  7083.33170  182.930  0.5391\n",
              "3        1     pier       0  7083.33170  157.930  0.0503\n",
              "4        2    beach       0  1249.99980   15.114  0.1049\n",
              "...    ...      ...     ...         ...      ...     ...\n",
              "4723  1181     pier       0   416.66668   36.636  0.4522\n",
              "4724  1182    beach       0  6250.00130  339.890  0.2537\n",
              "4725  1182     boat       1  6250.00130  235.436  0.6817\n",
              "4726  1182  charter       0  6250.00130  260.436  2.3014\n",
              "4727  1182     pier       0  6250.00130  339.890  0.1498\n",
              "\n",
              "[4728 rows x 6 columns]"
            ]
          },
          "metadata": {
            "tags": []
          },
          "execution_count": 4
        }
      ]
    },
    {
      "cell_type": "markdown",
      "metadata": {
        "id": "e3DfYUX7nJTK"
      },
      "source": [
        "Four alternatives are considered in the dataset: beach, boat, charter and pier. There are two alternative-specific variables: 'price' and 'catch' and one individual-specific variable 'income'."
      ]
    },
    {
      "cell_type": "markdown",
      "metadata": {
        "id": "rffV7cx8ORpP"
      },
      "source": [
        "### Fit model"
      ]
    },
    {
      "cell_type": "code",
      "metadata": {
        "id": "FIZwBe0zedfh",
        "colab": {
          "base_uri": "https://localhost:8080/"
        },
        "outputId": "3cec6b7a-1b1e-4e9a-c650-86e65627b7cc"
      },
      "source": [
        "varnames = ['price','catch']\n",
        "X = df[varnames].values\n",
        "y = df['choice'].values\n",
        "\n",
        "from xlogit import MixedLogit\n",
        "model = MixedLogit()\n",
        "model.fit(X, y, varnames= varnames,\n",
        "          alts=['beach', 'boat', 'charter', 'pier'],\n",
        "          randvars = {'price': 'n', 'catch': 'n'})\n",
        "model.summary()"
      ],
      "execution_count": 5,
      "outputs": [
        {
          "output_type": "stream",
          "text": [
            "Estimation with GPU processing enabled.\n",
            "Optimization terminated successfully.\n",
            "         Current function value: 1300.795887\n",
            "         Iterations: 37\n",
            "         Function evaluations: 64\n",
            "         Gradient evaluations: 64\n",
            "Estimation time= 1.1 seconds\n",
            "---------------------------------------------------------------------------\n",
            "Coefficient              Estimate      Std.Err.         z-val         P>|z|\n",
            "---------------------------------------------------------------------------\n",
            "price                  -0.0273092     0.0022691   -12.0351978      1.61e-30 ***\n",
            "catch                   1.3279443     0.1752850     7.5759175      5.27e-13 ***\n",
            "sd.price               -0.0103544     0.0020383    -5.0799644      2.26e-06 ***\n",
            "sd.catch               -1.5646325     0.3762199    -4.1588241      0.000148 ***\n",
            "---------------------------------------------------------------------------\n",
            "Significance:  0 '***' 0.001 '**' 0.01 '*' 0.05 '.' 0.1 ' ' 1\n",
            "\n",
            "Log-Likelihood= -1300.796\n",
            "AIC= 2609.592\n",
            "BIC= 2629.892\n"
          ],
          "name": "stdout"
        }
      ]
    },
    {
      "cell_type": "markdown",
      "metadata": {
        "id": "mWU80LmcODPY"
      },
      "source": [
        "## Car Dataset"
      ]
    },
    {
      "cell_type": "markdown",
      "metadata": {
        "id": "q1zgiBGKouPr"
      },
      "source": [
        "The third example uses a stated preference panel dataset for choice of car. Three alternatives are considered, with upto 6 choice situations per individual. This again is an unbalanced panel with responses of some individuals less than 6 situations. The dataset contains 8 explanaotry variables: price, operating cost, range, and binary indicators to indicate whether the car is electric, hybrid, and if performance is high or medium respectively. The dataset can be downloaded from https://raw.githubusercontent.com/arteagac/xlogit/master/examples/data/car100_long.csv in the long format."
      ]
    },
    {
      "cell_type": "markdown",
      "metadata": {
        "id": "SoSyQfjqkNU3"
      },
      "source": [
        "### Read data"
      ]
    },
    {
      "cell_type": "code",
      "metadata": {
        "id": "v8AAMruCj8tt",
        "colab": {
          "base_uri": "https://localhost:8080/",
          "height": 424
        },
        "outputId": "4233774c-baea-443a-a9a9-b62d0635ea62"
      },
      "source": [
        "import pandas as pd\n",
        "import numpy as np\n",
        "\n",
        "df = pd.read_csv(\"https://raw.githubusercontent.com/arteagac/xlogit/master/examples/data/car100_long.csv\")\n",
        "df.price = -1*df.price/10000\n",
        "df.operating_cost = -1*df.operating_cost\n",
        "df"
      ],
      "execution_count": 6,
      "outputs": [
        {
          "output_type": "execute_result",
          "data": {
            "text/html": [
              "<div>\n",
              "<style scoped>\n",
              "    .dataframe tbody tr th:only-of-type {\n",
              "        vertical-align: middle;\n",
              "    }\n",
              "\n",
              "    .dataframe tbody tr th {\n",
              "        vertical-align: top;\n",
              "    }\n",
              "\n",
              "    .dataframe thead th {\n",
              "        text-align: right;\n",
              "    }\n",
              "</style>\n",
              "<table border=\"1\" class=\"dataframe\">\n",
              "  <thead>\n",
              "    <tr style=\"text-align: right;\">\n",
              "      <th></th>\n",
              "      <th>person_id</th>\n",
              "      <th>choice_situation</th>\n",
              "      <th>choice</th>\n",
              "      <th>price</th>\n",
              "      <th>operating_cost</th>\n",
              "      <th>range</th>\n",
              "      <th>electric</th>\n",
              "      <th>gas</th>\n",
              "      <th>hybrid</th>\n",
              "      <th>high_performance</th>\n",
              "      <th>medium_performance</th>\n",
              "    </tr>\n",
              "  </thead>\n",
              "  <tbody>\n",
              "    <tr>\n",
              "      <th>0</th>\n",
              "      <td>1</td>\n",
              "      <td>1</td>\n",
              "      <td>0</td>\n",
              "      <td>-4.6763</td>\n",
              "      <td>-47.43</td>\n",
              "      <td>0.0</td>\n",
              "      <td>0</td>\n",
              "      <td>0</td>\n",
              "      <td>1</td>\n",
              "      <td>0</td>\n",
              "      <td>0</td>\n",
              "    </tr>\n",
              "    <tr>\n",
              "      <th>1</th>\n",
              "      <td>1</td>\n",
              "      <td>1</td>\n",
              "      <td>1</td>\n",
              "      <td>-5.7209</td>\n",
              "      <td>-27.43</td>\n",
              "      <td>1.3</td>\n",
              "      <td>1</td>\n",
              "      <td>0</td>\n",
              "      <td>0</td>\n",
              "      <td>1</td>\n",
              "      <td>1</td>\n",
              "    </tr>\n",
              "    <tr>\n",
              "      <th>2</th>\n",
              "      <td>1</td>\n",
              "      <td>1</td>\n",
              "      <td>0</td>\n",
              "      <td>-8.7960</td>\n",
              "      <td>-32.41</td>\n",
              "      <td>1.2</td>\n",
              "      <td>1</td>\n",
              "      <td>0</td>\n",
              "      <td>0</td>\n",
              "      <td>0</td>\n",
              "      <td>1</td>\n",
              "    </tr>\n",
              "    <tr>\n",
              "      <th>3</th>\n",
              "      <td>1</td>\n",
              "      <td>2</td>\n",
              "      <td>1</td>\n",
              "      <td>-3.3768</td>\n",
              "      <td>-4.89</td>\n",
              "      <td>1.3</td>\n",
              "      <td>1</td>\n",
              "      <td>0</td>\n",
              "      <td>0</td>\n",
              "      <td>1</td>\n",
              "      <td>1</td>\n",
              "    </tr>\n",
              "    <tr>\n",
              "      <th>4</th>\n",
              "      <td>1</td>\n",
              "      <td>2</td>\n",
              "      <td>0</td>\n",
              "      <td>-9.0336</td>\n",
              "      <td>-30.19</td>\n",
              "      <td>0.0</td>\n",
              "      <td>0</td>\n",
              "      <td>0</td>\n",
              "      <td>1</td>\n",
              "      <td>0</td>\n",
              "      <td>1</td>\n",
              "    </tr>\n",
              "    <tr>\n",
              "      <th>...</th>\n",
              "      <td>...</td>\n",
              "      <td>...</td>\n",
              "      <td>...</td>\n",
              "      <td>...</td>\n",
              "      <td>...</td>\n",
              "      <td>...</td>\n",
              "      <td>...</td>\n",
              "      <td>...</td>\n",
              "      <td>...</td>\n",
              "      <td>...</td>\n",
              "      <td>...</td>\n",
              "    </tr>\n",
              "    <tr>\n",
              "      <th>4447</th>\n",
              "      <td>100</td>\n",
              "      <td>1483</td>\n",
              "      <td>0</td>\n",
              "      <td>-2.8036</td>\n",
              "      <td>-14.45</td>\n",
              "      <td>1.6</td>\n",
              "      <td>1</td>\n",
              "      <td>0</td>\n",
              "      <td>0</td>\n",
              "      <td>0</td>\n",
              "      <td>0</td>\n",
              "    </tr>\n",
              "    <tr>\n",
              "      <th>4448</th>\n",
              "      <td>100</td>\n",
              "      <td>1483</td>\n",
              "      <td>0</td>\n",
              "      <td>-1.9360</td>\n",
              "      <td>-54.76</td>\n",
              "      <td>0.0</td>\n",
              "      <td>0</td>\n",
              "      <td>1</td>\n",
              "      <td>0</td>\n",
              "      <td>1</td>\n",
              "      <td>1</td>\n",
              "    </tr>\n",
              "    <tr>\n",
              "      <th>4449</th>\n",
              "      <td>100</td>\n",
              "      <td>1484</td>\n",
              "      <td>1</td>\n",
              "      <td>-2.4054</td>\n",
              "      <td>-50.57</td>\n",
              "      <td>0.0</td>\n",
              "      <td>0</td>\n",
              "      <td>1</td>\n",
              "      <td>0</td>\n",
              "      <td>0</td>\n",
              "      <td>0</td>\n",
              "    </tr>\n",
              "    <tr>\n",
              "      <th>4450</th>\n",
              "      <td>100</td>\n",
              "      <td>1484</td>\n",
              "      <td>0</td>\n",
              "      <td>-5.2795</td>\n",
              "      <td>-21.25</td>\n",
              "      <td>0.0</td>\n",
              "      <td>0</td>\n",
              "      <td>0</td>\n",
              "      <td>1</td>\n",
              "      <td>0</td>\n",
              "      <td>1</td>\n",
              "    </tr>\n",
              "    <tr>\n",
              "      <th>4451</th>\n",
              "      <td>100</td>\n",
              "      <td>1484</td>\n",
              "      <td>0</td>\n",
              "      <td>-6.0705</td>\n",
              "      <td>-25.41</td>\n",
              "      <td>1.4</td>\n",
              "      <td>1</td>\n",
              "      <td>0</td>\n",
              "      <td>0</td>\n",
              "      <td>0</td>\n",
              "      <td>0</td>\n",
              "    </tr>\n",
              "  </tbody>\n",
              "</table>\n",
              "<p>4452 rows × 11 columns</p>\n",
              "</div>"
            ],
            "text/plain": [
              "      person_id  choice_situation  ...  high_performance  medium_performance\n",
              "0             1                 1  ...                 0                   0\n",
              "1             1                 1  ...                 1                   1\n",
              "2             1                 1  ...                 0                   1\n",
              "3             1                 2  ...                 1                   1\n",
              "4             1                 2  ...                 0                   1\n",
              "...         ...               ...  ...               ...                 ...\n",
              "4447        100              1483  ...                 0                   0\n",
              "4448        100              1483  ...                 1                   1\n",
              "4449        100              1484  ...                 0                   0\n",
              "4450        100              1484  ...                 0                   1\n",
              "4451        100              1484  ...                 0                   0\n",
              "\n",
              "[4452 rows x 11 columns]"
            ]
          },
          "metadata": {
            "tags": []
          },
          "execution_count": 6
        }
      ]
    },
    {
      "cell_type": "markdown",
      "metadata": {
        "id": "_ZQf9DFKFE5j"
      },
      "source": [
        "### Fit the model"
      ]
    },
    {
      "cell_type": "code",
      "metadata": {
        "id": "_MhfvmWgFCX6",
        "colab": {
          "base_uri": "https://localhost:8080/"
        },
        "outputId": "404ad7ce-5af6-4cdb-d61a-985830ab9ae2"
      },
      "source": [
        "varnames = ['high_performance','medium_performance','price', 'operating_cost',\n",
        "            'range', 'electric', 'hybrid'] \n",
        "\n",
        "X = df[varnames].values\n",
        "y = df['choice'].values\n",
        "\n",
        "from xlogit import MixedLogit\n",
        "model = MixedLogit()\n",
        "model.fit(X, y, varnames = varnames,\n",
        "          alts=['car','bus','bike'],\n",
        "          randvars = {'price': 'ln', 'operating_cost': 'n',\n",
        "                      'range': 'ln', 'electric':'n', 'hybrid': 'n'}, \n",
        "          panels=df.person_id.values, #Panel column\n",
        "          n_draws = 100) \n",
        "model.summary()"
      ],
      "execution_count": 7,
      "outputs": [
        {
          "output_type": "stream",
          "text": [
            "Estimation with GPU processing enabled.\n",
            "Optimization terminated successfully.\n",
            "         Current function value: 1297.937510\n",
            "         Iterations: 52\n",
            "         Function evaluations: 63\n",
            "         Gradient evaluations: 63\n",
            "Estimation time= 1.3 seconds\n",
            "---------------------------------------------------------------------------\n",
            "Coefficient              Estimate      Std.Err.         z-val         P>|z|\n",
            "---------------------------------------------------------------------------\n",
            "high_performance        0.1059300     0.0923764     1.1467216         0.411    \n",
            "medium_performance      0.5660352     0.0961273     5.8883953      2.36e-07 ***\n",
            "price                  -0.7861318     0.1358040    -5.7887229      3.65e-07 ***\n",
            "operating_cost          0.0120780     0.0057487     2.1009905        0.0898 .  \n",
            "range                  -0.5886938     0.3564083    -1.6517401         0.204    \n",
            "electric               -1.6330363     0.3232833    -5.0514085      8.25e-06 ***\n",
            "hybrid                  0.6902022     0.1474823     4.6798989      3.61e-05 ***\n",
            "sd.price                0.8241904     0.0970293     8.4942402      9.71e-13 ***\n",
            "sd.operating_cost       0.0372727     0.0057037     6.5348697      1.26e-08 ***\n",
            "sd.range                0.4835210     0.2066505     2.3398009        0.0539 .  \n",
            "sd.electric             1.1565014     0.1872419     6.1765093      6.51e-08 ***\n",
            "sd.hybrid              -0.7108413     0.1552237    -4.5794638      5.31e-05 ***\n",
            "---------------------------------------------------------------------------\n",
            "Significance:  0 '***' 0.001 '**' 0.01 '*' 0.05 '.' 0.1 ' ' 1\n",
            "\n",
            "Log-Likelihood= -1297.938\n",
            "AIC= 2619.875\n",
            "BIC= 2651.137\n"
          ],
          "name": "stdout"
        }
      ]
    }
  ]
}