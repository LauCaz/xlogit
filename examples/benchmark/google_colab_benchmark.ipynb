{
  "nbformat": 4,
  "nbformat_minor": 0,
  "metadata": {
    "colab": {
      "name": "google_colab_benchmark.ipynb",
      "provenance": [],
      "collapsed_sections": [],
      "toc_visible": true,
      "authorship_tag": "ABX9TyN/dQ1YMTAGrSOsoxOrZF3P",
      "include_colab_link": true
    },
    "kernelspec": {
      "name": "python3",
      "display_name": "Python 3"
    },
    "accelerator": "GPU"
  },
  "cells": [
    {
      "cell_type": "markdown",
      "metadata": {
        "id": "view-in-github",
        "colab_type": "text"
      },
      "source": [
        "<a href=\"https://colab.research.google.com/github/arteagac/xlogit/blob/master/examples/benchmark/google_colab_benchmark.ipynb\" target=\"_parent\"><img src=\"https://colab.research.google.com/assets/colab-badge.svg\" alt=\"Open In Colab\"/></a>"
      ]
    },
    {
      "cell_type": "markdown",
      "metadata": {
        "id": "YxNFpOy363KS"
      },
      "source": [
        "## Import required libraries and read input data"
      ]
    },
    {
      "cell_type": "code",
      "metadata": {
        "id": "6lpU_GjypoWz"
      },
      "source": [
        "#import cupy as cp\n",
        "import pandas as pd\n",
        "import numpy as np\n",
        "from time import time\n",
        "import sys, io\n",
        "\n",
        "rdf = pd.DataFrame(columns=[\"library\", \"draws\", \"time\"])  # Dataframe to save results\n",
        "data_folder = \"https://raw.githubusercontent.com/arteagac/xlogit/master/examples/data\""
      ],
      "execution_count": null,
      "outputs": []
    },
    {
      "cell_type": "markdown",
      "metadata": {
        "id": "t5fKiBmmR8PO"
      },
      "source": [
        "## Part 1: Run benchmark"
      ]
    },
    {
      "cell_type": "markdown",
      "metadata": {
        "id": "Hh3cZGmppMtO"
      },
      "source": [
        "### Execute xlogit"
      ]
    },
    {
      "cell_type": "code",
      "metadata": {
        "id": "DS71jdF16QiE"
      },
      "source": [
        "# Install and import xlogit\n",
        "!pip install xlogit==0.1.0\n",
        "from xlogit import MixedLogit\n",
        "MixedLogit.check_if_gpu_available()"
      ],
      "execution_count": null,
      "outputs": []
    },
    {
      "cell_type": "code",
      "metadata": {
        "id": "yQuipBr05YYh"
      },
      "source": [
        "# Prepare input data\n",
        "df = pd.read_csv(data_folder+\"/artificial_long.csv\")  \n",
        "varnames = ['price', 'time', 'conven', 'comfort', 'meals', 'petfr',\n",
        "            'emipp', 'nonsig1', 'nonsig2', 'nonsig3']\n",
        "X = df[varnames].values\n",
        "y = df['choice'].values\n",
        "randvars = {'meals': 'n', 'petfr': 'n', 'emipp': 'n'}\n",
        "alts = [1, 2, 3]"
      ],
      "execution_count": null,
      "outputs": []
    },
    {
      "cell_type": "markdown",
      "metadata": {
        "id": "PoI9EZGV4hIj"
      },
      "source": [
        "#### Run estimation using GPU"
      ]
    },
    {
      "cell_type": "code",
      "metadata": {
        "id": "l6uKegMKoXpm"
      },
      "source": [
        "print(\"Ndraws Time(s) Log-Likeli.\")\n",
        "for n_draws in [100, 200, 300]:\n",
        "    np.random.seed(0)\n",
        "    start_time = time()\n",
        "    model = MixedLogit()\n",
        "    model.fit(X, y, varnames, alts=alts, n_draws=n_draws, verbose=0, randvars=randvars)\n",
        "    ellapsed = time() - start_time\n",
        "    print(\"{:6} {:7.2f} {:11.2f}\".format(n_draws, ellapsed, model.loglikelihood))\n",
        "    rdf.loc[len(rdf)] = ['xlogit_gpu', n_draws, ellapsed]"
      ],
      "execution_count": null,
      "outputs": []
    },
    {
      "cell_type": "markdown",
      "metadata": {
        "id": "F7RgCZvj4mq8"
      },
      "source": [
        "#### Run estimation without using GPU"
      ]
    },
    {
      "cell_type": "code",
      "metadata": {
        "id": "LSPtLZEq4yqc"
      },
      "source": [
        "from xlogit import device\n",
        "device.disable_gpu_acceleration()\n",
        "\n",
        "print(\"Ndraws Time(s) Log-Likeli.\")\n",
        "for n_draws in [100, 200, 300]:\n",
        "    np.random.seed(0)\n",
        "    start_time = time()\n",
        "    model = MixedLogit()\n",
        "    model.fit(X, y, varnames, alts=alts, n_draws=n_draws, verbose=0, randvars=randvars)\n",
        "    ellapsed = time() - start_time\n",
        "    print(\"{:6} {:7.2f} {:11.2f}\".format(n_draws, ellapsed, model.loglikelihood))\n",
        "    rdf.loc[len(rdf)] = ['xlogit', n_draws, ellapsed]"
      ],
      "execution_count": null,
      "outputs": []
    },
    {
      "cell_type": "markdown",
      "metadata": {
        "id": "pxxGg8dJ2y0d"
      },
      "source": [
        "### Execute pylogit"
      ]
    },
    {
      "cell_type": "code",
      "metadata": {
        "id": "dQovWhMM6jX_"
      },
      "source": [
        "# Install and import pylogit\n",
        "!pip install pylogit==0.2.2\n",
        "import pylogit as pl\n",
        "from collections import OrderedDict\n",
        "import warnings\n",
        "# Disable warnings shown by pylogit to better visualize the bechmkar outputs\n",
        "warnings.filterwarnings('ignore') "
      ],
      "execution_count": null,
      "outputs": []
    },
    {
      "cell_type": "code",
      "metadata": {
        "id": "YHF06jQD21fC"
      },
      "source": [
        "# Prepare input data\n",
        "df = pd.read_csv(data_folder+\"/artificial_long.csv\")  \n",
        "varnames = ['price', 'time', 'conven', 'comfort', 'meals', 'petfr',\n",
        "            'emipp', 'nonsig1', 'nonsig2', 'nonsig3']\n",
        "alt_id_col = \"alt\"\n",
        "obs_id_col = \"id\"\n",
        "choice_col = \"choice\"\n",
        "mixing_id_col = \"id\"\n",
        "mixing_vars = [\"meals\", \"petfr\", \"emipp\"]\n",
        "spec, spec_names = OrderedDict(), OrderedDict()\n",
        "for col in varnames:\n",
        "    df[col] = df[col].astype(float)\n",
        "    spec[col] = [[1, 2, 3]]\n",
        "    spec_names[col] = [col]\n",
        "\n",
        "# Run estimation\n",
        "print(\"Ndraws Time(s) Log-Likeli.\")\n",
        "for n_draws in [100, 200, 300]:\n",
        "    np.random.seed(0)\n",
        "    start_time = time()\n",
        "    model = pl.create_choice_model(data=df, alt_id_col=alt_id_col,\n",
        "                                obs_id_col=obs_id_col, choice_col=choice_col,\n",
        "                                specification=spec, mixing_vars=mixing_vars,\n",
        "                                model_type=\"Mixed Logit\", names=spec_names,\n",
        "                                mixing_id_col=mixing_id_col)\n",
        "    model.fit_mle(init_vals=np.zeros(len(varnames)+len(mixing_vars)),\n",
        "                num_draws=n_draws, seed=123, print_res=False)\n",
        "    ellapsed = time() - start_time\n",
        "    print(\"{:6} {:7.2f} {:11.2f}\".format(n_draws, ellapsed, model.log_likelihood))\n",
        "    rdf.loc[len(rdf)] = ['pylogit', n_draws, ellapsed]"
      ],
      "execution_count": null,
      "outputs": []
    },
    {
      "cell_type": "markdown",
      "metadata": {
        "id": "EVHvxUgn5HHs"
      },
      "source": [
        "### Execute biogeme"
      ]
    },
    {
      "cell_type": "code",
      "metadata": {
        "id": "3DhxqTPq5JZH"
      },
      "source": [
        "# Install and import biogeme\n",
        "!pip install biogeme==3.2.6\n",
        "import biogeme.database as db\n",
        "import biogeme.biogeme as bio\n",
        "import biogeme.models as models\n",
        "import biogeme.messaging as msg\n",
        "from biogeme.expressions import Beta, bioDraws, log, MonteCarlo"
      ],
      "execution_count": null,
      "outputs": []
    },
    {
      "cell_type": "code",
      "metadata": {
        "id": "nmib1DEG7f7U"
      },
      "source": [
        "# Prepare input data\n",
        "df = pd.read_csv(data_folder+\"/artificial_wide.csv\")\n",
        "df['choice'] = df['choice'].astype('str')\n",
        "mapping = {'1': 1, '2': 2, '3': 3}\n",
        "\n",
        "for k, v in mapping.items():\n",
        "    df[\"aval_\"+k] = np.ones(df.shape[0])\n",
        "df = df.replace({'choice': mapping})\n",
        "database = db.Database('artificial', df)\n",
        "\n",
        "globals().update(database.variables)\n",
        "\n",
        "# Fixed params\n",
        "b_price = Beta('b_price', 0, None, None, 0)\n",
        "b_time = Beta('b_time', 0, None, None, 0)\n",
        "b_conven = Beta('b_conven', 0, None, None, 0)\n",
        "b_comfort = Beta('b_comfort', 0, None, None, 0)\n",
        "b_nonsig1 = Beta('b_nonsig1', 0, None, None, 0)\n",
        "b_nonsig2 = Beta('b_nonsig2', 0, None, None, 0)\n",
        "b_nonsig3 = Beta('b_nonsig3', 0, None, None, 0)\n",
        "\n",
        "# Random params\n",
        "u_meals = Beta('u_meals', 0, None, None, 0)\n",
        "u_petfr = Beta('u_petfr', 0, None, None, 0)\n",
        "u_emipp = Beta('u_emipp', 0, None, None, 0)\n",
        "sd_meals = Beta('sd_meals', 0, None, None, 0)\n",
        "sd_petfr = Beta('sd_petfr', 0, None, None, 0)\n",
        "sd_emipp = Beta('sd_emipp', 0, None, None, 0)\n",
        "\n",
        "b_meals = u_meals + sd_meals*bioDraws('b_meals', 'NORMAL')\n",
        "b_petfr = u_petfr + sd_petfr*bioDraws('b_petfr', 'NORMAL')\n",
        "b_emipp = u_emipp + sd_emipp*bioDraws('b_emipp', 'NORMAL')\n",
        "\n",
        "V1 = price_1*b_price+time_1*b_time+conven_1*b_conven+comfort_1*b_comfort+\\\n",
        "    meals_1*b_meals+petfr_1*b_petfr+emipp_1*b_emipp+nonsig1_1*b_nonsig1+\\\n",
        "        nonsig2_1*b_nonsig2+nonsig3_1*b_nonsig3\n",
        "V2 = price_2*b_price+time_2*b_time+conven_2*b_conven+comfort_2*b_comfort+\\\n",
        "    meals_2*b_meals+petfr_2*b_petfr+emipp_2*b_emipp+nonsig1_2*b_nonsig1+\\\n",
        "        nonsig2_2*b_nonsig2+nonsig3_2*b_nonsig3\n",
        "V3 = price_3*b_price+time_3*b_time+conven_3*b_conven+comfort_3*b_comfort+\\\n",
        "    meals_3*b_meals+petfr_3*b_petfr+emipp_3*b_emipp+nonsig1_3*b_nonsig1+\\\n",
        "        nonsig2_3*b_nonsig2+nonsig3_3*b_nonsig3\n",
        "\n",
        "V = {1: V1, 2: V2, 3: V3}\n",
        "av = {1: aval_1, 2: aval_2, 3: aval_3}\n",
        "\n",
        "prob = models.logit(V, av, choice)\n",
        "logprob = log(MonteCarlo(prob))\n",
        "\n",
        "# Define level of verbosity\n",
        "logger = msg.bioMessage()\n",
        "logger.setSilent()\n",
        "\n",
        "# Run estimation\n",
        "print(\"Ndraws Time(s) Log-Likeli.\")\n",
        "for n_draws in [100, 200, 300]:\n",
        "    start_time = time()\n",
        "    biogeme = bio.BIOGEME(database, logprob, numberOfDraws=n_draws, numberOfThreads=2)\n",
        "    biogeme.modelName = 'MixedLogitArtificial'\n",
        "    biogeme.generateHtml = False\n",
        "    biogeme.generatePickle = False\n",
        "    results = biogeme.estimate()\n",
        "    ellapsed = time() - start_time\n",
        "    print(\"{:6} {:7.2f} {:11.2f}\".format(n_draws, ellapsed, results.data.logLike))\n",
        "    rdf.loc[len(rdf)] = ['biogeme', n_draws, ellapsed]"
      ],
      "execution_count": null,
      "outputs": []
    },
    {
      "cell_type": "markdown",
      "metadata": {
        "id": "WaNf4rVAMtsI"
      },
      "source": [
        "## Part 2: Plot results"
      ]
    },
    {
      "cell_type": "code",
      "metadata": {
        "id": "n1MkWP0n8nh7"
      },
      "source": [
        "import matplotlib.pyplot as plt\n",
        "import matplotlib\n",
        "matplotlib.rcParams.update({'font.size': 14,\n",
        "                            'axes.spines.right': False,\n",
        "                            'axes.spines.top': False})\n",
        "markers = ['^', 'd', 'x', 'o', '^', '|']\n",
        "colors = [ \"#984ea3\", \"#377eb8\", \"#ff7f00\", \"#e41a1c\", \"#984ea3\",\n",
        "          \"#a4c500\"]\n",
        "libs = ['biogeme', 'pylogit', 'xlogit', 'xlogit_gpu']"
      ],
      "execution_count": null,
      "outputs": []
    },
    {
      "cell_type": "code",
      "metadata": {
        "id": "O8TQUTRYMk9v"
      },
      "source": [
        "# Plot time benchmark\n",
        "plt.figure()\n",
        "for i, lib in enumerate(libs):\n",
        "    d = rdf[rdf.library == lib][[\"draws\", \"time\"]].values.T\n",
        "    plt.plot(d[0], d[1], marker=markers[i], c=colors[i])\n",
        "plt.legend(libs)\n",
        "plt.xlabel(\"Random draws\")\n",
        "plt.ylabel(\"Time (Seconds)\")\n",
        "plt.title(\"Estimation time (artificial dataset)\")\n",
        "plt.show()"
      ],
      "execution_count": null,
      "outputs": []
    },
    {
      "cell_type": "markdown",
      "metadata": {
        "id": "MDYCWdW8My3U"
      },
      "source": [
        "## Part 3: Show comparison table"
      ]
    },
    {
      "cell_type": "code",
      "metadata": {
        "id": "bOvbI3TCM16J"
      },
      "source": [
        "dfc = rdf.pivot(index='library', columns='draws', values='time')\n",
        "\n",
        "# Compute estimation time compared to xlogit_gpu\n",
        "for draws in [100, 200, 300]:\n",
        "    col = dfc[draws]\n",
        "    dfc['c'+str(draws)] = col.values/col[col.index == \"xlogit_gpu\"].values\n",
        "dfc['cavg'] = dfc[['c'+str(i) for i in [100, 200, 300]]].values.mean(axis=1)\n",
        "dfc = dfc.round(1)\n",
        "\n",
        "# Print in a table format\n",
        "print(\"\\n\\n********* TABLE COMPARISON ESTIMATION TIME *********\")\n",
        "print(\"{:12} {:^23} {:^23}\".format(\"\", \"Estimation time\", \"Compared to xlogit_gpu\"))\n",
        "c = dfc.columns.values\n",
        "print(\"{:12} {:6} {:6} {:6} {:>6} {:>6} {:>6} {:>6}\".format(\n",
        "    \"draws-->\", c[0], c[1], c[2], c[3], c[4], c[5], \"c_avg\"))\n",
        "for row in dfc.iterrows():\n",
        "    c = row[1].values\n",
        "    print(\"{:12} {:6} {:6} {:6} {:6} {:6} {:6} {:6}\".format(\n",
        "        row[0], c[0], c[1], c[2], c[3], c[4], c[5], c[6]))"
      ],
      "execution_count": null,
      "outputs": []
    },
    {
      "cell_type": "markdown",
      "metadata": {
        "id": "oWVZY8uZSQDr"
      },
      "source": [
        "## Part 4: Show `xlogit` estimates"
      ]
    },
    {
      "cell_type": "markdown",
      "metadata": {
        "id": "eo_yv9maWTWM"
      },
      "source": [
        "### Artificial dataset"
      ]
    },
    {
      "cell_type": "code",
      "metadata": {
        "id": "cJ4cD0VQVTqH"
      },
      "source": [
        "device.enable_gpu_acceleration()\n",
        "df = pd.read_csv(data_folder+\"/artificial_long.csv\")  \n",
        "varnames = ['price', 'time', 'conven', 'comfort', 'meals', 'petfr',\n",
        "            'emipp', 'nonsig1', 'nonsig2', 'nonsig3']\n",
        "\n",
        "np.random.seed(0)\n",
        "model = MixedLogit()\n",
        "model.fit(X=df[varnames], y=df['choice'], varnames=varnames, alts=df['alt'],\n",
        "          ids=df['id'], randvars={'meals': 'n', 'petfr': 'n', 'emipp': 'n'},\n",
        "          n_draws=400)\n",
        "model.summary()"
      ],
      "execution_count": null,
      "outputs": []
    },
    {
      "cell_type": "markdown",
      "metadata": {
        "id": "zguWQ8jfWqMJ"
      },
      "source": [
        "### Electricity dataset"
      ]
    },
    {
      "cell_type": "code",
      "metadata": {
        "id": "JSbvvaMMWWfL"
      },
      "source": [
        "df = pd.read_csv(data_folder+\"/electricity_long.csv\")\n",
        "varnames = ['pf', 'cl', 'loc', 'wk', 'tod', 'seas']\n",
        "\n",
        "np.random.seed(0)\n",
        "model = MixedLogit()\n",
        "model.fit(X=df[varnames], y=df['choice'], varnames=varnames, alts=df['alt'],\n",
        "          ids=df['id'], panels=df['chid'], randvars={'pf': 'n', 'cl': 'n',\n",
        "          'loc': 'n', 'wk': 'n', 'tod': 'n', 'seas': 'n'}, n_draws=600)\n",
        "model.summary()"
      ],
      "execution_count": null,
      "outputs": []
    },
    {
      "cell_type": "markdown",
      "metadata": {
        "id": "BN097A4gYPO2"
      },
      "source": [
        "### Fishing dataset"
      ]
    },
    {
      "cell_type": "code",
      "metadata": {
        "id": "nhWMERuzYafH"
      },
      "source": [
        "df = pd.read_csv(data_folder+\"/fishing_long.csv\")\n",
        "X = df[['price', 'catch']]\n",
        "y = df['choice']\n",
        "\n",
        "np.random.seed(0)\n",
        "model = MixedLogit()\n",
        "model.fit(X, y,  varnames=['price', 'catch'], alts=df['alt'], ids=df['id'],\n",
        "          randvars={'price': 'n', 'catch': 'n'}, n_draws=1000)\n",
        "model.summary()"
      ],
      "execution_count": null,
      "outputs": []
    }
  ]
}