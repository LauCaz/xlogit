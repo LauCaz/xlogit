{
  "nbformat": 4,
  "nbformat_minor": 0,
  "metadata": {
    "colab": {
      "name": "google_colab_benchmark.ipynb",
      "provenance": [],
      "collapsed_sections": [],
      "authorship_tag": "ABX9TyOBioVIGPHfEtQbTuR+R2pV",
      "include_colab_link": true
    },
    "kernelspec": {
      "name": "python3",
      "display_name": "Python 3"
    },
    "accelerator": "GPU"
  },
  "cells": [
    {
      "cell_type": "markdown",
      "metadata": {
        "id": "view-in-github",
        "colab_type": "text"
      },
      "source": [
        "<a href=\"https://colab.research.google.com/github/arteagac/xlogit/blob/master/examples/benchmark/google_colab_benchmark.ipynb\" target=\"_parent\"><img src=\"https://colab.research.google.com/assets/colab-badge.svg\" alt=\"Open In Colab\"/></a>"
      ]
    },
    {
      "cell_type": "markdown",
      "metadata": {
        "id": "MJN_sR4NGIdf"
      },
      "source": [
        "# Quick Benchmark in Google Colab"
      ]
    },
    {
      "cell_type": "markdown",
      "metadata": {
        "id": "tK323lsqGLtG"
      },
      "source": [
        "This benchmark compares the estimation speed of `xlogit`, `pylogit` and `biogeme` using a dataset of artificial choices. In addition, the estimates and figures presented in the paper are resembled to a large extent by the results in this Jupyter Notebook. Make sure that a GPU Hardware Accelerator is being used by clicking `Runtime > Change runtime type`.  To run the entire benchmark simply click `Runtime > Run all`. Let's start by importing some required libraries. \n",
        "> **Important:** Google Colab may stop the execution when it detects no interaction with this page for too long. To avoid this, try to interact with this page at least every 10 minutes."
      ]
    },
    {
      "cell_type": "code",
      "metadata": {
        "id": "6lpU_GjypoWz"
      },
      "source": [
        "import pandas as pd\n",
        "import numpy as np\n",
        "from time import time\n",
        "import sys, io\n",
        "\n",
        "rdf = pd.DataFrame(columns=[\"library\", \"draws\", \"time\"])  # Dataframe to save results\n",
        "data_folder = \"https://raw.githubusercontent.com/arteagac/xlogit/master/examples/data\""
      ],
      "execution_count": 1,
      "outputs": []
    },
    {
      "cell_type": "markdown",
      "metadata": {
        "id": "t5fKiBmmR8PO"
      },
      "source": [
        "## Part 1: Run benchmark"
      ]
    },
    {
      "cell_type": "markdown",
      "metadata": {
        "id": "KS0phmN4vqf1"
      },
      "source": [
        "This benchmark compares the estimation times of `xlogit`, `pylogit`, and `biogeme` at different number of random draws. The results are shown below each execution cells."
      ]
    },
    {
      "cell_type": "markdown",
      "metadata": {
        "id": "Hh3cZGmppMtO"
      },
      "source": [
        "### Execute xlogit experiments"
      ]
    },
    {
      "cell_type": "code",
      "metadata": {
        "id": "DS71jdF16QiE",
        "colab": {
          "base_uri": "https://localhost:8080/"
        },
        "outputId": "94d9708b-2144-4c81-a662-ca8ebff23e3f"
      },
      "source": [
        "# Install and import xlogit\n",
        "!pip install xlogit==0.1.0\n",
        "from xlogit import MixedLogit\n",
        "MixedLogit.check_if_gpu_available()"
      ],
      "execution_count": 2,
      "outputs": [
        {
          "output_type": "stream",
          "text": [
            "Collecting xlogit==0.1.0\n",
            "  Downloading https://files.pythonhosted.org/packages/2f/f7/37e78cb5d7bec7b16250b7e7ac5b72f781ac6ae7662cd2aef787f520b88a/xlogit-0.1.0-py3-none-any.whl\n",
            "Requirement already satisfied: numpy>=1.13.1 in /usr/local/lib/python3.6/dist-packages (from xlogit==0.1.0) (1.19.5)\n",
            "Requirement already satisfied: scipy>=1.0.0 in /usr/local/lib/python3.6/dist-packages (from xlogit==0.1.0) (1.4.1)\n",
            "Installing collected packages: xlogit\n",
            "Successfully installed xlogit-0.1.0\n",
            "1 GPU device(s) available. xlogit will use GPU processing\n"
          ],
          "name": "stdout"
        },
        {
          "output_type": "execute_result",
          "data": {
            "text/plain": [
              "True"
            ]
          },
          "metadata": {
            "tags": []
          },
          "execution_count": 2
        }
      ]
    },
    {
      "cell_type": "code",
      "metadata": {
        "id": "yQuipBr05YYh"
      },
      "source": [
        "# Prepare input data\n",
        "df = pd.read_csv(data_folder+\"/artificial_long.csv\")  \n",
        "varnames = ['price', 'time', 'conven', 'comfort', 'meals', 'petfr',\n",
        "            'emipp', 'nonsig1', 'nonsig2', 'nonsig3']\n",
        "X = df[varnames].values\n",
        "y = df['choice'].values\n",
        "randvars = {'meals': 'n', 'petfr': 'n', 'emipp': 'n'}\n",
        "alts = [1, 2, 3]"
      ],
      "execution_count": 3,
      "outputs": []
    },
    {
      "cell_type": "markdown",
      "metadata": {
        "id": "PoI9EZGV4hIj"
      },
      "source": [
        "#### Run estimation using GPU"
      ]
    },
    {
      "cell_type": "code",
      "metadata": {
        "id": "l6uKegMKoXpm",
        "colab": {
          "base_uri": "https://localhost:8080/"
        },
        "outputId": "e0052026-b3b1-4a4d-d405-f5442423d738"
      },
      "source": [
        "print(\"Ndraws Time(s) Log-Likeli.\")\n",
        "for n_draws in [100, 200, 300]:\n",
        "    np.random.seed(0)\n",
        "    start_time = time()\n",
        "    model = MixedLogit()\n",
        "    model.fit(X, y, varnames, alts=alts, n_draws=n_draws, verbose=0, randvars=randvars)\n",
        "    ellapsed = time() - start_time\n",
        "    print(\"{:6} {:7.2f} {:11.2f}\".format(n_draws, ellapsed, model.loglikelihood))\n",
        "    rdf.loc[len(rdf)] = ['xlogit_gpu', n_draws, ellapsed]"
      ],
      "execution_count": 4,
      "outputs": [
        {
          "output_type": "stream",
          "text": [
            "Ndraws Time(s) Log-Likeli.\n",
            "   100    1.26    -2275.85\n",
            "   200    1.21    -2277.51\n",
            "   300    1.79    -2280.15\n"
          ],
          "name": "stdout"
        }
      ]
    },
    {
      "cell_type": "markdown",
      "metadata": {
        "id": "9j1pbWpyHy_g"
      },
      "source": [
        "> **Note that the estimation takes less than 2 seconds for xlogit with GPU processing, even for 300 random draws.**"
      ]
    },
    {
      "cell_type": "markdown",
      "metadata": {
        "id": "F7RgCZvj4mq8"
      },
      "source": [
        "#### Run estimation without using GPU"
      ]
    },
    {
      "cell_type": "code",
      "metadata": {
        "id": "LSPtLZEq4yqc",
        "colab": {
          "base_uri": "https://localhost:8080/"
        },
        "outputId": "1311d90a-b10a-4243-c55c-9d64d032e31e"
      },
      "source": [
        "from xlogit import device\n",
        "device.disable_gpu_acceleration()\n",
        "\n",
        "print(\"Ndraws Time(s) Log-Likeli.\")\n",
        "for n_draws in [100, 200, 300]:\n",
        "    np.random.seed(0)\n",
        "    start_time = time()\n",
        "    model = MixedLogit()\n",
        "    model.fit(X, y, varnames, alts=alts, n_draws=n_draws, verbose=0, randvars=randvars)\n",
        "    ellapsed = time() - start_time\n",
        "    print(\"{:6} {:7.2f} {:11.2f}\".format(n_draws, ellapsed, model.loglikelihood))\n",
        "    rdf.loc[len(rdf)] = ['xlogit', n_draws, ellapsed]"
      ],
      "execution_count": 5,
      "outputs": [
        {
          "output_type": "stream",
          "text": [
            "Ndraws Time(s) Log-Likeli.\n",
            "   100    7.05    -2275.85\n",
            "   200   13.03    -2277.51\n",
            "   300   19.90    -2280.15\n"
          ],
          "name": "stdout"
        }
      ]
    },
    {
      "cell_type": "markdown",
      "metadata": {
        "id": "ua-GU3ehHWk8"
      },
      "source": [
        "> **Note that withouth using a GPU, the estimation time increases.**"
      ]
    },
    {
      "cell_type": "markdown",
      "metadata": {
        "id": "pxxGg8dJ2y0d"
      },
      "source": [
        "### Execute pylogit experiments"
      ]
    },
    {
      "cell_type": "code",
      "metadata": {
        "id": "dQovWhMM6jX_",
        "colab": {
          "base_uri": "https://localhost:8080/"
        },
        "outputId": "6d0c29e5-ce60-4226-fcbc-091008bd0358"
      },
      "source": [
        "# Install and import pylogit\n",
        "!pip install pylogit==0.2.2\n",
        "import pylogit as pl\n",
        "from collections import OrderedDict\n",
        "import warnings\n",
        "# Disable warnings shown by pylogit to better visualize the benchmark outputs\n",
        "warnings.filterwarnings('ignore') "
      ],
      "execution_count": 6,
      "outputs": [
        {
          "output_type": "stream",
          "text": [
            "Collecting pylogit==0.2.2\n",
            "\u001b[?25l  Downloading https://files.pythonhosted.org/packages/f6/e1/2e605442b8e4d663be072981ebf4e6adf063500dd970d26fc5644899dac4/pylogit-0.2.2-py2.py3-none-any.whl (184kB)\n",
            "\r\u001b[K     |█▊                              | 10kB 26.8MB/s eta 0:00:01\r\u001b[K     |███▌                            | 20kB 17.6MB/s eta 0:00:01\r\u001b[K     |█████▎                          | 30kB 14.3MB/s eta 0:00:01\r\u001b[K     |███████                         | 40kB 13.1MB/s eta 0:00:01\r\u001b[K     |████████▉                       | 51kB 8.2MB/s eta 0:00:01\r\u001b[K     |██████████▋                     | 61kB 7.7MB/s eta 0:00:01\r\u001b[K     |████████████▍                   | 71kB 8.8MB/s eta 0:00:01\r\u001b[K     |██████████████▏                 | 81kB 9.6MB/s eta 0:00:01\r\u001b[K     |████████████████                | 92kB 9.3MB/s eta 0:00:01\r\u001b[K     |█████████████████▊              | 102kB 7.9MB/s eta 0:00:01\r\u001b[K     |███████████████████▌            | 112kB 7.9MB/s eta 0:00:01\r\u001b[K     |█████████████████████▎          | 122kB 7.9MB/s eta 0:00:01\r\u001b[K     |███████████████████████         | 133kB 7.9MB/s eta 0:00:01\r\u001b[K     |████████████████████████▉       | 143kB 7.9MB/s eta 0:00:01\r\u001b[K     |██████████████████████████▋     | 153kB 7.9MB/s eta 0:00:01\r\u001b[K     |████████████████████████████▍   | 163kB 7.9MB/s eta 0:00:01\r\u001b[K     |██████████████████████████████▏ | 174kB 7.9MB/s eta 0:00:01\r\u001b[K     |████████████████████████████████| 184kB 7.9MB/s eta 0:00:01\r\u001b[K     |████████████████████████████████| 194kB 7.9MB/s \n",
            "\u001b[?25hRequirement already satisfied: pandas>=0.16.2 in /usr/local/lib/python3.6/dist-packages (from pylogit==0.2.2) (1.1.5)\n",
            "Requirement already satisfied: future>=0.16 in /usr/local/lib/python3.6/dist-packages (from pylogit==0.2.2) (0.16.0)\n",
            "Requirement already satisfied: tqdm>=4.15.0 in /usr/local/lib/python3.6/dist-packages (from pylogit==0.2.2) (4.41.1)\n",
            "Requirement already satisfied: scipy>=0.16.1 in /usr/local/lib/python3.6/dist-packages (from pylogit==0.2.2) (1.4.1)\n",
            "Requirement already satisfied: numpy>=1.10.2 in /usr/local/lib/python3.6/dist-packages (from pylogit==0.2.2) (1.19.5)\n",
            "Requirement already satisfied: statsmodels>=0.6.1 in /usr/local/lib/python3.6/dist-packages (from pylogit==0.2.2) (0.10.2)\n",
            "Requirement already satisfied: python-dateutil>=2.7.3 in /usr/local/lib/python3.6/dist-packages (from pandas>=0.16.2->pylogit==0.2.2) (2.8.1)\n",
            "Requirement already satisfied: pytz>=2017.2 in /usr/local/lib/python3.6/dist-packages (from pandas>=0.16.2->pylogit==0.2.2) (2018.9)\n",
            "Requirement already satisfied: patsy>=0.4.0 in /usr/local/lib/python3.6/dist-packages (from statsmodels>=0.6.1->pylogit==0.2.2) (0.5.1)\n",
            "Requirement already satisfied: six>=1.5 in /usr/local/lib/python3.6/dist-packages (from python-dateutil>=2.7.3->pandas>=0.16.2->pylogit==0.2.2) (1.15.0)\n",
            "Installing collected packages: pylogit\n",
            "Successfully installed pylogit-0.2.2\n"
          ],
          "name": "stdout"
        }
      ]
    },
    {
      "cell_type": "code",
      "metadata": {
        "id": "YHF06jQD21fC",
        "colab": {
          "base_uri": "https://localhost:8080/"
        },
        "outputId": "8401b853-78a8-492b-e8e6-200c876a2ba0"
      },
      "source": [
        "# Prepare input data\n",
        "df = pd.read_csv(data_folder+\"/artificial_long.csv\")  \n",
        "varnames = ['price', 'time', 'conven', 'comfort', 'meals', 'petfr',\n",
        "            'emipp', 'nonsig1', 'nonsig2', 'nonsig3']\n",
        "alt_id_col = \"alt\"\n",
        "obs_id_col = \"id\"\n",
        "choice_col = \"choice\"\n",
        "mixing_id_col = \"id\"\n",
        "mixing_vars = [\"meals\", \"petfr\", \"emipp\"]\n",
        "spec, spec_names = OrderedDict(), OrderedDict()\n",
        "for col in varnames:\n",
        "    df[col] = df[col].astype(float)\n",
        "    spec[col] = [[1, 2, 3]]\n",
        "    spec_names[col] = [col]\n",
        "\n",
        "# Run estimation\n",
        "print(\"Ndraws Time(s) Log-Likeli.\")\n",
        "for n_draws in [100, 200, 300]:\n",
        "    np.random.seed(0)\n",
        "    start_time = time()\n",
        "    model = pl.create_choice_model(data=df, alt_id_col=alt_id_col,\n",
        "                                obs_id_col=obs_id_col, choice_col=choice_col,\n",
        "                                specification=spec, mixing_vars=mixing_vars,\n",
        "                                model_type=\"Mixed Logit\", names=spec_names,\n",
        "                                mixing_id_col=mixing_id_col)\n",
        "    model.fit_mle(init_vals=np.zeros(len(varnames)+len(mixing_vars)),\n",
        "                num_draws=n_draws, seed=123, print_res=False)\n",
        "    ellapsed = time() - start_time\n",
        "    print(\"{:6} {:7.2f} {:11.2f}\".format(n_draws, ellapsed, model.log_likelihood))\n",
        "    rdf.loc[len(rdf)] = ['pylogit', n_draws, ellapsed]"
      ],
      "execution_count": 7,
      "outputs": [
        {
          "output_type": "stream",
          "text": [
            "Ndraws Time(s) Log-Likeli.\n",
            "   100   66.81    -2283.39\n",
            "   200  110.36    -2285.38\n",
            "   300   91.32    -2273.75\n"
          ],
          "name": "stdout"
        }
      ]
    },
    {
      "cell_type": "markdown",
      "metadata": {
        "id": "_XubYbNlHH4S"
      },
      "source": [
        "> **Note that the estimation times of `pylogit` are substantially larger compared to `xlogit` with gpu processing.**"
      ]
    },
    {
      "cell_type": "markdown",
      "metadata": {
        "id": "EVHvxUgn5HHs"
      },
      "source": [
        "### Execute biogeme experiments"
      ]
    },
    {
      "cell_type": "markdown",
      "metadata": {
        "id": "rg_EraQlKYHP"
      },
      "source": [
        "For this experiment, `biogeme` will run using two processor cores. "
      ]
    },
    {
      "cell_type": "code",
      "metadata": {
        "id": "3DhxqTPq5JZH",
        "colab": {
          "base_uri": "https://localhost:8080/"
        },
        "outputId": "2599f563-150e-404f-d715-2d1a055fefbd"
      },
      "source": [
        "# Install and import biogeme\n",
        "!pip install biogeme==3.2.6\n",
        "import biogeme.database as db\n",
        "import biogeme.biogeme as bio\n",
        "import biogeme.models as models\n",
        "import biogeme.messaging as msg\n",
        "from biogeme.expressions import Beta, bioDraws, log, MonteCarlo"
      ],
      "execution_count": 8,
      "outputs": [
        {
          "output_type": "stream",
          "text": [
            "Collecting biogeme==3.2.6\n",
            "\u001b[?25l  Downloading https://files.pythonhosted.org/packages/e0/d6/12cdee2ace4a706b2e07ae8fbd53adca6f34e596d66cbe9e54838b17063f/biogeme-3.2.6.tar.gz (1.1MB)\n",
            "\u001b[K     |████████████████████████████████| 1.1MB 8.3MB/s \n",
            "\u001b[?25hRequirement already satisfied: numpy in /usr/local/lib/python3.6/dist-packages (from biogeme==3.2.6) (1.19.5)\n",
            "Requirement already satisfied: cython in /usr/local/lib/python3.6/dist-packages (from biogeme==3.2.6) (0.29.21)\n",
            "Collecting unidecode\n",
            "\u001b[?25l  Downloading https://files.pythonhosted.org/packages/74/65/91eab655041e9e92f948cb7302e54962035762ce7b518272ed9d6b269e93/Unidecode-1.1.2-py2.py3-none-any.whl (239kB)\n",
            "\u001b[K     |████████████████████████████████| 245kB 26.5MB/s \n",
            "\u001b[?25hRequirement already satisfied: scipy in /usr/local/lib/python3.6/dist-packages (from biogeme==3.2.6) (1.4.1)\n",
            "Requirement already satisfied: pandas in /usr/local/lib/python3.6/dist-packages (from biogeme==3.2.6) (1.1.5)\n",
            "Requirement already satisfied: python-dateutil>=2.7.3 in /usr/local/lib/python3.6/dist-packages (from pandas->biogeme==3.2.6) (2.8.1)\n",
            "Requirement already satisfied: pytz>=2017.2 in /usr/local/lib/python3.6/dist-packages (from pandas->biogeme==3.2.6) (2018.9)\n",
            "Requirement already satisfied: six>=1.5 in /usr/local/lib/python3.6/dist-packages (from python-dateutil>=2.7.3->pandas->biogeme==3.2.6) (1.15.0)\n",
            "Building wheels for collected packages: biogeme\n",
            "  Building wheel for biogeme (setup.py) ... \u001b[?25l\u001b[?25hdone\n",
            "  Created wheel for biogeme: filename=biogeme-3.2.6-cp36-cp36m-linux_x86_64.whl size=3180299 sha256=cc94c86734e57284917aa683fd24875f5079763aad296af9b269d0afd7d655d4\n",
            "  Stored in directory: /root/.cache/pip/wheels/a9/5e/40/84c8872ea823cc88e8033bc4a27fe8b71c65453949159b3aa1\n",
            "Successfully built biogeme\n",
            "Installing collected packages: unidecode, biogeme\n",
            "Successfully installed biogeme-3.2.6 unidecode-1.1.2\n"
          ],
          "name": "stdout"
        }
      ]
    },
    {
      "cell_type": "code",
      "metadata": {
        "id": "nmib1DEG7f7U",
        "colab": {
          "base_uri": "https://localhost:8080/"
        },
        "outputId": "6aa7ff9e-bac7-4033-a22d-8c63d5178cad"
      },
      "source": [
        "# Prepare input data\n",
        "df = pd.read_csv(data_folder+\"/artificial_wide.csv\")\n",
        "df['choice'] = df['choice'].astype('str')\n",
        "mapping = {'1': 1, '2': 2, '3': 3}\n",
        "\n",
        "for k, v in mapping.items():\n",
        "    df[\"aval_\"+k] = np.ones(df.shape[0])\n",
        "df = df.replace({'choice': mapping})\n",
        "database = db.Database('artificial', df)\n",
        "\n",
        "globals().update(database.variables)\n",
        "\n",
        "# Fixed params\n",
        "b_price = Beta('b_price', 0, None, None, 0)\n",
        "b_time = Beta('b_time', 0, None, None, 0)\n",
        "b_conven = Beta('b_conven', 0, None, None, 0)\n",
        "b_comfort = Beta('b_comfort', 0, None, None, 0)\n",
        "b_nonsig1 = Beta('b_nonsig1', 0, None, None, 0)\n",
        "b_nonsig2 = Beta('b_nonsig2', 0, None, None, 0)\n",
        "b_nonsig3 = Beta('b_nonsig3', 0, None, None, 0)\n",
        "\n",
        "# Random params\n",
        "u_meals = Beta('u_meals', 0, None, None, 0)\n",
        "u_petfr = Beta('u_petfr', 0, None, None, 0)\n",
        "u_emipp = Beta('u_emipp', 0, None, None, 0)\n",
        "sd_meals = Beta('sd_meals', 0, None, None, 0)\n",
        "sd_petfr = Beta('sd_petfr', 0, None, None, 0)\n",
        "sd_emipp = Beta('sd_emipp', 0, None, None, 0)\n",
        "\n",
        "b_meals = u_meals + sd_meals*bioDraws('b_meals', 'NORMAL')\n",
        "b_petfr = u_petfr + sd_petfr*bioDraws('b_petfr', 'NORMAL')\n",
        "b_emipp = u_emipp + sd_emipp*bioDraws('b_emipp', 'NORMAL')\n",
        "\n",
        "V1 = price_1*b_price+time_1*b_time+conven_1*b_conven+comfort_1*b_comfort+\\\n",
        "    meals_1*b_meals+petfr_1*b_petfr+emipp_1*b_emipp+nonsig1_1*b_nonsig1+\\\n",
        "        nonsig2_1*b_nonsig2+nonsig3_1*b_nonsig3\n",
        "V2 = price_2*b_price+time_2*b_time+conven_2*b_conven+comfort_2*b_comfort+\\\n",
        "    meals_2*b_meals+petfr_2*b_petfr+emipp_2*b_emipp+nonsig1_2*b_nonsig1+\\\n",
        "        nonsig2_2*b_nonsig2+nonsig3_2*b_nonsig3\n",
        "V3 = price_3*b_price+time_3*b_time+conven_3*b_conven+comfort_3*b_comfort+\\\n",
        "    meals_3*b_meals+petfr_3*b_petfr+emipp_3*b_emipp+nonsig1_3*b_nonsig1+\\\n",
        "        nonsig2_3*b_nonsig2+nonsig3_3*b_nonsig3\n",
        "\n",
        "V = {1: V1, 2: V2, 3: V3}\n",
        "av = {1: aval_1, 2: aval_2, 3: aval_3}\n",
        "\n",
        "prob = models.logit(V, av, choice)\n",
        "logprob = log(MonteCarlo(prob))\n",
        "\n",
        "# Define level of verbosity\n",
        "logger = msg.bioMessage()\n",
        "logger.setSilent()\n",
        "\n",
        "# Run estimation\n",
        "print(\"Ndraws Time(s) Log-Likeli.\")\n",
        "for n_draws in [100, 200, 300]:\n",
        "    start_time = time()\n",
        "    biogeme = bio.BIOGEME(database, logprob, numberOfDraws=n_draws, numberOfThreads=2)\n",
        "    biogeme.modelName = 'MixedLogitArtificial'\n",
        "    biogeme.generateHtml = False\n",
        "    biogeme.generatePickle = False\n",
        "    results = biogeme.estimate()\n",
        "    ellapsed = time() - start_time\n",
        "    print(\"{:6} {:7.2f} {:11.2f}\".format(n_draws, ellapsed, results.data.logLike))\n",
        "    rdf.loc[len(rdf)] = ['biogeme', n_draws, ellapsed]"
      ],
      "execution_count": 9,
      "outputs": [
        {
          "output_type": "stream",
          "text": [
            "Ndraws Time(s) Log-Likeli.\n",
            "   100  303.90    -2282.43\n",
            "   200  687.13    -2280.55\n",
            "   300  978.90    -2278.63\n"
          ],
          "name": "stdout"
        }
      ]
    },
    {
      "cell_type": "markdown",
      "metadata": {
        "id": "e62LlJ67Hrbp"
      },
      "source": [
        "> **Note that the estimation times of `biogeme` are substantially larger compared to `xlogit` with gpu processing.**"
      ]
    },
    {
      "cell_type": "markdown",
      "metadata": {
        "id": "WaNf4rVAMtsI"
      },
      "source": [
        "## Part 2: Plot benchmark results"
      ]
    },
    {
      "cell_type": "code",
      "metadata": {
        "id": "n1MkWP0n8nh7"
      },
      "source": [
        "import matplotlib.pyplot as plt\n",
        "import matplotlib\n",
        "matplotlib.rcParams.update({'font.size': 14,\n",
        "                            'axes.spines.right': False,\n",
        "                            'axes.spines.top': False})\n",
        "markers = {'xlogit': 'x', 'xlogit_gpu': 'o', 'biogeme': 'd', 'pylogit': '^'}\n",
        "colors = {'xlogit': '#ff7f00', 'xlogit_gpu': '#e41a1c', 'biogeme': '#984ea3',\n",
        "           'pylogit': '#377eb8'}\n",
        "libs = ['xlogit', 'xlogit_gpu' ,'biogeme', 'pylogit']"
      ],
      "execution_count": 10,
      "outputs": []
    },
    {
      "cell_type": "code",
      "metadata": {
        "id": "O8TQUTRYMk9v",
        "colab": {
          "base_uri": "https://localhost:8080/",
          "height": 597
        },
        "outputId": "53848ba0-aed9-416d-f57f-421765e85a1b"
      },
      "source": [
        "# Plot time benchmark\n",
        "def plot_time_benchmark(plib):\n",
        "    plibs = [\"xlogit\", \"xlogit_gpu\", plib]\n",
        "    for i, lib in enumerate(plibs):\n",
        "        d = rdf[rdf.library == lib][[\"draws\", \"time\"]].values.T\n",
        "        plt.plot(d[0], d[1], marker=markers[lib], c=colors[lib])\n",
        "    plt.legend(plibs)\n",
        "    plt.xlabel(\"Random draws\")\n",
        "    plt.ylabel(\"Time (Seconds)\")\n",
        "    plt.title(\"Estimation time (artificial dataset)\")\n",
        "    plt.show()\n",
        "    plt.close()\n",
        "\n",
        "plot_time_benchmark(\"pylogit\")\n",
        "plot_time_benchmark(\"biogeme\")"
      ],
      "execution_count": 11,
      "outputs": [
        {
          "output_type": "display_data",
          "data": {
            "image/png": "[encoded data removed]",
            "text/plain": [
              "<Figure size 432x288 with 1 Axes>"
            ]
          },
          "metadata": {
            "tags": [],
            "needs_background": "light"
          }
        },
        {
          "output_type": "display_data",
          "data": {
            "image/png": "[encoded data removed]",
            "text/plain": [
              "<Figure size 432x288 with 1 Axes>"
            ]
          },
          "metadata": {
            "tags": [],
            "needs_background": "light"
          }
        }
      ]
    },
    {
      "cell_type": "markdown",
      "metadata": {
        "id": "rrhDT2RrKojf"
      },
      "source": [
        "> **These figures resemble to a large extent the results in Figures 1 and 2 in the paper**"
      ]
    },
    {
      "cell_type": "markdown",
      "metadata": {
        "id": "_7cdVvoNHprf"
      },
      "source": [
        "The benchmark results indicate that `xlogit_gpu` is significantly faster than `pylogit` and `biogeme`. For instance, note that for 300 draws, `xlogit_gpu` takes less than two seconds whereas `pylogit` takes around 100 seconds. The next section presents a more convenient summary of the speed gains provided by `xlogit` in the form of a comparison table."
      ]
    },
    {
      "cell_type": "markdown",
      "metadata": {
        "id": "MDYCWdW8My3U"
      },
      "source": [
        "## Part 3: Show comparison table"
      ]
    },
    {
      "cell_type": "code",
      "metadata": {
        "id": "bOvbI3TCM16J",
        "colab": {
          "base_uri": "https://localhost:8080/"
        },
        "outputId": "a48d6047-59c9-493e-b362-1a403dbe727e"
      },
      "source": [
        "dfc = rdf.pivot(index='library', columns='draws', values='time')\n",
        "\n",
        "# Compute estimation time compared to xlogit_gpu\n",
        "for draws in [100, 200, 300]:\n",
        "    col = dfc[draws]\n",
        "    dfc['c'+str(draws)] = col.values/col[col.index == \"xlogit_gpu\"].values\n",
        "dfc['cavg'] = dfc[['c'+str(i) for i in [100, 200, 300]]].values.mean(axis=1)\n",
        "dfc = dfc.round(1)\n",
        "\n",
        "# Print in a table format\n",
        "print(\"\\n\\n********* TABLE COMPARISON ESTIMATION TIME *********\\n\")\n",
        "print(\"{:12} {:^23} {:^23}\".format(\"\", \"Estimation time\", \"Compared to xlogit_gpu\"))\n",
        "c = dfc.columns.values\n",
        "print(\"{:12} {:6} {:6} {:6} {:>6} {:>6} {:>6} {:>6}\".format(\n",
        "    \"draws-->\", c[0], c[1], c[2], c[3], c[4], c[5], \"c_avg\"))\n",
        "for row in dfc.iterrows():\n",
        "    c = row[1].values\n",
        "    print(\"{:12} {:6} {:6} {:6} {:6} {:6} {:6} {:6}\".format(\n",
        "        row[0], c[0], c[1], c[2], c[3], c[4], c[5], c[6]))"
      ],
      "execution_count": 12,
      "outputs": [
        {
          "output_type": "stream",
          "text": [
            "\n",
            "\n",
            "********* TABLE COMPARISON ESTIMATION TIME *********\n",
            "\n",
            "                 Estimation time     Compared to xlogit_gpu \n",
            "draws-->        100    200    300   c100   c200   c300  c_avg\n",
            "biogeme       303.9  687.1  978.9  241.0  568.9  548.1  452.7\n",
            "pylogit        66.8  110.4   91.3   53.0   91.4   51.1   65.2\n",
            "xlogit          7.0   13.0   19.9    5.6   10.8   11.1    9.2\n",
            "xlogit_gpu      1.3    1.2    1.8    1.0    1.0    1.0    1.0\n"
          ],
          "name": "stdout"
        }
      ]
    },
    {
      "cell_type": "markdown",
      "metadata": {
        "id": "yZsbvJGnLGz9"
      },
      "source": [
        "> **Note that this table resembles to some degree the results in Table 3 in the paper**"
      ]
    },
    {
      "cell_type": "markdown",
      "metadata": {
        "id": "RDkbcBDBJb9p"
      },
      "source": [
        "The first set of columns in the table summarize the different estimation times and the second set of columns compare such estimation times against the ones yielded by `xlogit_gpu`. The final column shows how slow the other tools are compared to `xlogit_gpu`. Note that, in average, `xlogit` with GPU processing is around 73x faster than `pylogit`, 467x faster than `biogeme` (which used 2 processor cores simultaneously), and 9x faster thatn `xlogit` without GPU processing. "
      ]
    },
    {
      "cell_type": "markdown",
      "metadata": {
        "id": "oWVZY8uZSQDr"
      },
      "source": [
        "## Part 4: Show `xlogit` tables of estimates"
      ]
    },
    {
      "cell_type": "markdown",
      "metadata": {
        "id": "S5h2q7mRLSSJ"
      },
      "source": [
        "The following tables show the estimates obtained with `xlogit` for the artificial, electricity, and fishing datasets."
      ]
    },
    {
      "cell_type": "markdown",
      "metadata": {
        "id": "K8Au5WGGLdrJ"
      },
      "source": [
        "> **Note that the estimates below are the exact same estimates for `xlogit` in the paper (Tables 1 and 2).** The results for `mlogit` can't be shown here because Google Colab does not run R code. Also, the extensive estimation times of `pylogit` make it difficult to show the complete results in this quick benchmark in Google Colab. However, the results can be entirely replicated using the mini and full benchmark."
      ]
    },
    {
      "cell_type": "markdown",
      "metadata": {
        "id": "eo_yv9maWTWM"
      },
      "source": [
        "### Artificial dataset"
      ]
    },
    {
      "cell_type": "code",
      "metadata": {
        "id": "cJ4cD0VQVTqH",
        "colab": {
          "base_uri": "https://localhost:8080/"
        },
        "outputId": "c85b1ab2-639e-4ff1-943e-3fb498c19fba"
      },
      "source": [
        "device.enable_gpu_acceleration()\n",
        "df = pd.read_csv(data_folder+\"/artificial_long.csv\")  \n",
        "varnames = ['price', 'time', 'conven', 'comfort', 'meals', 'petfr',\n",
        "            'emipp', 'nonsig1', 'nonsig2', 'nonsig3']\n",
        "\n",
        "np.random.seed(0)\n",
        "model = MixedLogit()\n",
        "model.fit(X=df[varnames], y=df['choice'], varnames=varnames, alts=df['alt'],\n",
        "          ids=df['id'], randvars={'meals': 'n', 'petfr': 'n', 'emipp': 'n'},\n",
        "          n_draws=400)\n",
        "model.summary()"
      ],
      "execution_count": 13,
      "outputs": [
        {
          "output_type": "stream",
          "text": [
            "Estimation with GPU processing enabled.\n",
            "Optimization terminated successfully.\n",
            "         Current function value: 2276.975676\n",
            "         Iterations: 53\n",
            "         Function evaluations: 69\n",
            "         Gradient evaluations: 69\n",
            "Estimation time= 2.6 seconds\n",
            "---------------------------------------------------------------------------\n",
            "Coefficient              Estimate      Std.Err.         z-val         P>|z|\n",
            "---------------------------------------------------------------------------\n",
            "price                  -1.0619123     0.1656002    -6.4125057      1.04e-09 ***\n",
            "time                   -1.4945887     0.1684276    -8.8737748      9.22e-18 ***\n",
            "conven                  0.9191472     0.1410970     6.5142948      5.41e-10 ***\n",
            "comfort                 1.1083482     0.1809920     6.1237430      6.23e-09 ***\n",
            "meals                   1.7412874     0.2109908     8.2529071      1.71e-15 ***\n",
            "petfr                   4.0055383     0.3967163    10.0967321      1.09e-22 ***\n",
            "emipp                  -2.1052121     0.2333379    -9.0221591      2.51e-18 ***\n",
            "nonsig1                 0.0672495     0.1199555     0.5606204         0.682    \n",
            "nonsig2                 0.0150399     0.1306466     0.1151189         0.793    \n",
            "nonsig3                 0.0364870     0.1125478     0.3241911         0.757    \n",
            "sd.meals                0.7591145     0.2382298     3.1864805         0.005 ** \n",
            "sd.petfr               -1.3729504     0.2813465    -4.8799267      5.56e-06 ***\n",
            "sd.emipp                1.0502445     0.1491779     7.0402145      1.59e-11 ***\n",
            "---------------------------------------------------------------------------\n",
            "Significance:  0 '***' 0.001 '**' 0.01 '*' 0.05 '.' 0.1 ' ' 1\n",
            "\n",
            "Log-Likelihood= -2276.976\n",
            "AIC= 4579.951\n",
            "BIC= 4661.774\n"
          ],
          "name": "stdout"
        }
      ]
    },
    {
      "cell_type": "markdown",
      "metadata": {
        "id": "zguWQ8jfWqMJ"
      },
      "source": [
        "### Electricity dataset"
      ]
    },
    {
      "cell_type": "code",
      "metadata": {
        "id": "JSbvvaMMWWfL",
        "colab": {
          "base_uri": "https://localhost:8080/"
        },
        "outputId": "c37dedc1-e8ae-40c5-b034-b3967b6d9379"
      },
      "source": [
        "df = pd.read_csv(data_folder+\"/electricity_long.csv\")\n",
        "varnames = ['pf', 'cl', 'loc', 'wk', 'tod', 'seas']\n",
        "\n",
        "np.random.seed(0)\n",
        "model = MixedLogit()\n",
        "model.fit(X=df[varnames], y=df['choice'], varnames=varnames, alts=df['alt'],\n",
        "          ids=df['chid'], panels=df['id'], randvars={'pf': 'n', 'cl': 'n',\n",
        "          'loc': 'n', 'wk': 'n', 'tod': 'n', 'seas': 'n'}, n_draws=600)\n",
        "model.summary()"
      ],
      "execution_count": 14,
      "outputs": [
        {
          "output_type": "stream",
          "text": [
            "Estimation with GPU processing enabled.\n",
            "Optimization terminated successfully.\n",
            "         Current function value: 3888.413414\n",
            "         Iterations: 46\n",
            "         Function evaluations: 51\n",
            "         Gradient evaluations: 51\n",
            "Estimation time= 5.9 seconds\n",
            "---------------------------------------------------------------------------\n",
            "Coefficient              Estimate      Std.Err.         z-val         P>|z|\n",
            "---------------------------------------------------------------------------\n",
            "pf                     -0.9996286     0.0331488   -30.1557541     9.98e-100 ***\n",
            "cl                     -0.2355334     0.0220401   -10.6865870      1.97e-22 ***\n",
            "loc                     2.2307891     0.1164263    19.1605300      5.64e-56 ***\n",
            "wk                      1.6251657     0.0918755    17.6887855      6.85e-50 ***\n",
            "tod                    -9.6067367     0.3112721   -30.8628296     2.36e-102 ***\n",
            "seas                   -9.7892800     0.2913063   -33.6047603     2.81e-112 ***\n",
            "sd.pf                   0.2357813     0.0181892    12.9627201      7.25e-31 ***\n",
            "sd.cl                   0.4025377     0.0220183    18.2819903      2.43e-52 ***\n",
            "sd.loc                  1.9262893     0.1187850    16.2166103      7.67e-44 ***\n",
            "sd.wk                  -1.2192931     0.0944581   -12.9083017      1.17e-30 ***\n",
            "sd.tod                  2.3354462     0.1741859    13.4077786      1.37e-32 ***\n",
            "sd.seas                -1.4200913     0.2095869    -6.7756668       3.1e-10 ***\n",
            "---------------------------------------------------------------------------\n",
            "Significance:  0 '***' 0.001 '**' 0.01 '*' 0.05 '.' 0.1 ' ' 1\n",
            "\n",
            "Log-Likelihood= -3888.413\n",
            "AIC= 7800.827\n",
            "BIC= 7847.493\n"
          ],
          "name": "stdout"
        }
      ]
    },
    {
      "cell_type": "markdown",
      "metadata": {
        "id": "7xUFSp1TSyJ4"
      },
      "source": [
        "## Part 5: Fishing dataset usage example"
      ]
    },
    {
      "cell_type": "markdown",
      "metadata": {
        "id": "BN097A4gYPO2"
      },
      "source": [
        "\n",
        "> **This is the example presented in Section 3.3 of the paper.**"
      ]
    },
    {
      "cell_type": "code",
      "metadata": {
        "id": "nhWMERuzYafH",
        "colab": {
          "base_uri": "https://localhost:8080/"
        },
        "outputId": "ce97ed18-b124-49eb-d3ff-22f169c00d12"
      },
      "source": [
        "df = pd.read_csv(data_folder+\"/fishing_long.csv\")\n",
        "X = df[['price', 'catch']]\n",
        "y = df['choice']\n",
        "\n",
        "np.random.seed(0)\n",
        "model = MixedLogit()\n",
        "model.fit(X, y,  varnames=['price', 'catch'], alts=df['alt'], ids=df['id'],\n",
        "          randvars={'price': 'n', 'catch': 'n'}, n_draws=1000)\n",
        "model.summary()"
      ],
      "execution_count": 15,
      "outputs": [
        {
          "output_type": "stream",
          "text": [
            "Estimation with GPU processing enabled.\n",
            "Optimization terminated successfully.\n",
            "         Current function value: 1300.511342\n",
            "         Iterations: 42\n",
            "         Function evaluations: 55\n",
            "         Gradient evaluations: 55\n",
            "Estimation time= 1.2 seconds\n",
            "---------------------------------------------------------------------------\n",
            "Coefficient              Estimate      Std.Err.         z-val         P>|z|\n",
            "---------------------------------------------------------------------------\n",
            "price                  -0.0272460     0.0022980   -11.8561596      1.09e-29 ***\n",
            "catch                   1.3271142     0.1743120     7.6134421      4.01e-13 ***\n",
            "sd.price                0.0102129     0.0021859     4.6722783      1.59e-05 ***\n",
            "sd.catch               -1.5706821     0.3762555    -4.1745090      0.000139 ***\n",
            "---------------------------------------------------------------------------\n",
            "Significance:  0 '***' 0.001 '**' 0.01 '*' 0.05 '.' 0.1 ' ' 1\n",
            "\n",
            "Log-Likelihood= -1300.511\n",
            "AIC= 2609.023\n",
            "BIC= 2629.323\n"
          ],
          "name": "stdout"
        }
      ]
    }
  ]
}